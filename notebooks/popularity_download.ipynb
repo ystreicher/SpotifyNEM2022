{
 "cells": [
  {
   "cell_type": "code",
   "execution_count": null,
   "metadata": {},
   "outputs": [],
   "source": [
    "!pip install spotipy "
   ]
  },
  {
   "cell_type": "code",
   "execution_count": null,
   "metadata": {},
   "outputs": [],
   "source": [
    "import pandas as pd"
   ]
  },
  {
   "cell_type": "code",
   "execution_count": null,
   "metadata": {},
   "outputs": [],
   "source": [
    "sp_data = pd.read_csv(\"data/tracks_features.csv\")"
   ]
  },
  {
   "cell_type": "code",
   "execution_count": null,
   "metadata": {},
   "outputs": [],
   "source": [
    "sp_data.describe()"
   ]
  },
  {
   "cell_type": "code",
   "execution_count": null,
   "metadata": {},
   "outputs": [],
   "source": [
    "import spotipy"
   ]
  },
  {
   "cell_type": "code",
   "execution_count": null,
   "metadata": {
    "scrolled": true,
    "tags": []
   },
   "outputs": [],
   "source": [
    "import spotipy\n",
    "from spotipy.oauth2 import SpotifyClientCredentials\n",
    "\n",
    "\n",
    "class SpotifyPopularityCrawler:\n",
    "\n",
    "    POPULARITY_KEY = \"popularity\"\n",
    "\n",
    "    def __init__(self, sp_data: pd.DataFrame, REQUEST_LIMIT=None):\n",
    "        # login\n",
    "        self.spotify = spotipy.Spotify(\n",
    "            client_credentials_manager=SpotifyClientCredentials()\n",
    "        )\n",
    "        self.sp_data = sp_data\n",
    "        \n",
    "        self.REQUEST_LIMIT = sp_data.shape[0] if REQUEST_LIMIT == None else REQUEST_LIMIT\n",
    "\n",
    "    def augment_data_with_popularity(self):        \n",
    "        self.get_popularity_of_all_songs()\n",
    "        small_frame = pd.DataFrame()\n",
    "        if self.REQUEST_LIMIT > 0:\n",
    "            small_frame = self.sp_data.iloc[0:self.REQUEST_LIMIT]\n",
    "            small_frame['popularity'] = self.popularities\n",
    "        return small_frame\n",
    "        \n",
    "    \n",
    "    def get_popularity_of_all_songs(self):\n",
    "        popularities = []\n",
    "        for track in sp_data.to_numpy()[0:self.REQUEST_LIMIT]:\n",
    "            key = track[0]            \n",
    "            try:\n",
    "                pop = self.get_popularity_of_song(key)\n",
    "                popularities.append(pop)\n",
    "            except Exception as e:\n",
    "                print(e)\n",
    "        self.popularities = popularities\n",
    "\n",
    "    def get_popularity_of_song(self, song_id):\n",
    "        result = self.spotify.track(song_id)\n",
    "        pop = result[self.POPULARITY_KEY]\n",
    "        return pop\n"
   ]
  },
  {
   "cell_type": "code",
   "execution_count": null,
   "metadata": {},
   "outputs": [],
   "source": [
    "crawler = SpotifyPopularityCrawler(sp_data, REQUEST_LIMIT=1000)\n",
    "\n",
    "aug_data = crawler.augment_data_with_popularity()"
   ]
  },
  {
   "cell_type": "code",
   "execution_count": null,
   "metadata": {},
   "outputs": [],
   "source": [
    "aug_data.head(1)"
   ]
  },
  {
   "cell_type": "code",
   "execution_count": null,
   "metadata": {},
   "outputs": [],
   "source": [
    "import matplotlib.pyplot as plt\n",
    "\n",
    "\n",
    "plt.hist(aug_data['popularity'])"
   ]
  }
 ],
 "metadata": {
  "kernelspec": {
   "display_name": "Python 3",
   "language": "python",
   "name": "python3"
  },
  "language_info": {
   "codemirror_mode": {
    "name": "ipython",
    "version": 3
   },
   "file_extension": ".py",
   "mimetype": "text/x-python",
   "name": "python",
   "nbconvert_exporter": "python",
   "pygments_lexer": "ipython3",
   "version": "3.8.10"
  }
 },
 "nbformat": 4,
 "nbformat_minor": 5
}
