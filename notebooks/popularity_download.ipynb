{
 "cells": [
  {
   "cell_type": "code",
   "execution_count": null,
   "id": "26aa87c9-66d3-47b3-b6da-c029a568fe07",
   "metadata": {},
   "outputs": [],
   "source": [
    "!pip install spotipy "
   ]
  },
  {
   "cell_type": "code",
   "execution_count": null,
   "id": "8b957e42-5662-486e-8726-449be4c5c937",
   "metadata": {},
   "outputs": [],
   "source": [
    "import pandas as pd"
   ]
  },
  {
   "cell_type": "code",
   "execution_count": null,
   "id": "b277b435-ba01-472b-bdc4-35995cd89a5b",
   "metadata": {},
   "outputs": [],
   "source": [
    "sp_data = pd.read_csv(\"data/tracks_features.csv\")"
   ]
  },
  {
   "cell_type": "code",
   "execution_count": null,
   "id": "1a3272b1-ef82-40fc-b14b-db9c2afa15c1",
   "metadata": {},
   "outputs": [],
   "source": [
    "sp_data.describe()"
   ]
  },
  {
   "cell_type": "code",
   "execution_count": null,
   "id": "a78dd8bf-8ac8-4cfc-b812-78d2a24b0a2e",
   "metadata": {},
   "outputs": [],
   "source": [
    "import spotipy"
   ]
  },
  {
   "cell_type": "code",
   "execution_count": 76,
   "id": "a7fd28b2-1019-45bc-a38d-91017be8bebf",
   "metadata": {
    "scrolled": true,
    "tags": []
   },
   "outputs": [],
   "source": [
    "import spotipy\n",
    "from spotipy.oauth2 import SpotifyClientCredentials\n",
    "\n",
    "\n",
    "class SpotifyPopularityCrawler:\n",
    "\n",
    "    POPULARITY_KEY = \"popularity\"\n",
    "\n",
    "    def __init__(self, sp_data: pd.DataFrame, REQUEST_LIMIT=None):\n",
    "        # login\n",
    "        self.spotify = spotipy.Spotify(\n",
    "            client_credentials_manager=SpotifyClientCredentials()\n",
    "        )\n",
    "        self.sp_data = sp_data\n",
    "        \n",
    "        self.REQUEST_LIMIT = sp_data.shape[0] if REQUEST_LIMIT == None else REQUEST_LIMIT\n",
    "\n",
    "    def augment_data_with_popularity(self):        \n",
    "        self.get_popularity_of_all_songs()\n",
    "        small_frame = pd.DataFrame()\n",
    "        if self.REQUEST_LIMIT > 0:\n",
    "            small_frame = self.sp_data.iloc[0:self.REQUEST_LIMIT]\n",
    "            small_frame['popularity'] = self.popularities\n",
    "        return small_frame\n",
    "        \n",
    "    \n",
    "    def get_popularity_of_all_songs(self):\n",
    "        popularities = []\n",
    "        for track in sp_data.to_numpy()[0:self.REQUEST_LIMIT]:\n",
    "            key = track[0]            \n",
    "            try:\n",
    "                pop = self.get_popularity_of_song(key)\n",
    "                popularities.append(pop)\n",
    "            except Exception as e:\n",
    "                print(e)\n",
    "        self.popularities = popularities\n",
    "\n",
    "    def get_popularity_of_song(self, song_id):\n",
    "        result = self.spotify.track(song_id)\n",
    "        pop = result[self.POPULARITY_KEY]\n",
    "        return pop\n"
   ]
  },
  {
   "cell_type": "code",
   "execution_count": 89,
   "id": "c361ea51-b5ea-489f-981b-1e2b2939baa3",
   "metadata": {},
   "outputs": [
    {
     "name": "stderr",
     "output_type": "stream",
     "text": [
      "/usr/local/Caskroom/miniconda/base/envs/datlit/lib/python3.7/site-packages/ipykernel_launcher.py:23: SettingWithCopyWarning: \n",
      "A value is trying to be set on a copy of a slice from a DataFrame.\n",
      "Try using .loc[row_indexer,col_indexer] = value instead\n",
      "\n",
      "See the caveats in the documentation: https://pandas.pydata.org/pandas-docs/stable/user_guide/indexing.html#returning-a-view-versus-a-copy\n"
     ]
    }
   ],
   "source": [
    "crawler = SpotifyPopularityCrawler(sp_data, REQUEST_LIMIT=1000)\n",
    "\n",
    "aug_data = crawler.augment_data_with_popularity()"
   ]
  },
  {
   "cell_type": "code",
   "execution_count": 90,
   "id": "17bfa778-f0d6-4484-a0bc-97798e5ed3f0",
   "metadata": {},
   "outputs": [
    {
     "data": {
      "text/html": [
       "<div>\n",
       "<style scoped>\n",
       "    .dataframe tbody tr th:only-of-type {\n",
       "        vertical-align: middle;\n",
       "    }\n",
       "\n",
       "    .dataframe tbody tr th {\n",
       "        vertical-align: top;\n",
       "    }\n",
       "\n",
       "    .dataframe thead th {\n",
       "        text-align: right;\n",
       "    }\n",
       "</style>\n",
       "<table border=\"1\" class=\"dataframe\">\n",
       "  <thead>\n",
       "    <tr style=\"text-align: right;\">\n",
       "      <th></th>\n",
       "      <th>id</th>\n",
       "      <th>name</th>\n",
       "      <th>album</th>\n",
       "      <th>album_id</th>\n",
       "      <th>artists</th>\n",
       "      <th>artist_ids</th>\n",
       "      <th>track_number</th>\n",
       "      <th>disc_number</th>\n",
       "      <th>explicit</th>\n",
       "      <th>danceability</th>\n",
       "      <th>...</th>\n",
       "      <th>acousticness</th>\n",
       "      <th>instrumentalness</th>\n",
       "      <th>liveness</th>\n",
       "      <th>valence</th>\n",
       "      <th>tempo</th>\n",
       "      <th>duration_ms</th>\n",
       "      <th>time_signature</th>\n",
       "      <th>year</th>\n",
       "      <th>release_date</th>\n",
       "      <th>popularity</th>\n",
       "    </tr>\n",
       "  </thead>\n",
       "  <tbody>\n",
       "    <tr>\n",
       "      <th>0</th>\n",
       "      <td>7lmeHLHBe4nmXzuXc0HDjk</td>\n",
       "      <td>Testify</td>\n",
       "      <td>The Battle Of Los Angeles</td>\n",
       "      <td>2eia0myWFgoHuttJytCxgX</td>\n",
       "      <td>['Rage Against The Machine']</td>\n",
       "      <td>['2d0hyoQ5ynDBnkvAbJKORj']</td>\n",
       "      <td>1</td>\n",
       "      <td>1</td>\n",
       "      <td>False</td>\n",
       "      <td>0.47</td>\n",
       "      <td>...</td>\n",
       "      <td>0.0261</td>\n",
       "      <td>0.000011</td>\n",
       "      <td>0.356</td>\n",
       "      <td>0.503</td>\n",
       "      <td>117.906</td>\n",
       "      <td>210133</td>\n",
       "      <td>4.0</td>\n",
       "      <td>1999</td>\n",
       "      <td>1999-11-02</td>\n",
       "      <td>66</td>\n",
       "    </tr>\n",
       "  </tbody>\n",
       "</table>\n",
       "<p>1 rows × 25 columns</p>\n",
       "</div>"
      ],
      "text/plain": [
       "                       id     name                      album  \\\n",
       "0  7lmeHLHBe4nmXzuXc0HDjk  Testify  The Battle Of Los Angeles   \n",
       "\n",
       "                 album_id                       artists  \\\n",
       "0  2eia0myWFgoHuttJytCxgX  ['Rage Against The Machine']   \n",
       "\n",
       "                   artist_ids  track_number  disc_number  explicit  \\\n",
       "0  ['2d0hyoQ5ynDBnkvAbJKORj']             1            1     False   \n",
       "\n",
       "   danceability  ...  acousticness  instrumentalness  liveness  valence  \\\n",
       "0          0.47  ...        0.0261          0.000011     0.356    0.503   \n",
       "\n",
       "     tempo  duration_ms  time_signature  year  release_date  popularity  \n",
       "0  117.906       210133             4.0  1999    1999-11-02          66  \n",
       "\n",
       "[1 rows x 25 columns]"
      ]
     },
     "execution_count": 90,
     "metadata": {},
     "output_type": "execute_result"
    }
   ],
   "source": [
    "aug_data.head(1)"
   ]
  },
  {
   "cell_type": "code",
   "execution_count": 91,
   "id": "5f997c3b-653e-41d2-af13-8cabf0dbbdd4",
   "metadata": {},
   "outputs": [
    {
     "data": {
      "text/plain": [
       "(array([468., 155., 117., 107.,  56.,  47.,  30.,  12.,   3.,   5.]),\n",
       " array([ 0. ,  7.5, 15. , 22.5, 30. , 37.5, 45. , 52.5, 60. , 67.5, 75. ]),\n",
       " <BarContainer object of 10 artists>)"
      ]
     },
     "execution_count": 91,
     "metadata": {},
     "output_type": "execute_result"
    },
    {
     "data": {
      "image/png": "[encoded data removed]",
      "text/plain": [
       "<Figure size 432x288 with 1 Axes>"
      ]
     },
     "metadata": {
      "needs_background": "light"
     },
     "output_type": "display_data"
    }
   ],
   "source": [
    "import matplotlib.pyplot as plt\n",
    "\n",
    "\n",
    "plt.hist(aug_data['popularity'])"
   ]
  }
 ],
 "metadata": {
  "kernelspec": {
   "display_name": "Python 3 (ipykernel)",
   "language": "python",
   "name": "python3"
  },
  "language_info": {
   "codemirror_mode": {
    "name": "ipython",
    "version": 3
   },
   "file_extension": ".py",
   "mimetype": "text/x-python",
   "name": "python",
   "nbconvert_exporter": "python",
   "pygments_lexer": "ipython3",
   "version": "3.7.11"
  }
 },
 "nbformat": 4,
 "nbformat_minor": 5
}
