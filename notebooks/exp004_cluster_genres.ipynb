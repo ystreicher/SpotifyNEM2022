{
 "cells": [
  {
   "cell_type": "code",
   "execution_count": null,
   "metadata": {},
   "outputs": [],
   "source": [
    "import numpy as np\n",
    "import pandas as pd\n",
    "import matplotlib.pyplot as plt\n",
    "from nem.cleanup import filter_artists\n",
    "from nem.util import load_artists"
   ]
  },
  {
   "cell_type": "code",
   "execution_count": null,
   "metadata": {},
   "outputs": [],
   "source": [
    "artists = load_artists('../artists.csv')"
   ]
  },
  {
   "cell_type": "code",
   "execution_count": null,
   "metadata": {},
   "outputs": [],
   "source": [
    "unique_genres = {}\n",
    "for artist_genres in artists.genres:\n",
    "    for genre in artist_genres:\n",
    "        unique_genres[genre] = unique_genres.get(genre, 0) + 1\n",
    "\n",
    "unique_genres = pd.Series(unique_genres, name='song count')\n",
    "n_genres = len(unique_genres)\n",
    "print(f'There are {n_genres} unique genres')\n",
    "print('A small excerpt:', list(unique_genres.index[:30]))"
   ]
  },
  {
   "cell_type": "markdown",
   "metadata": {},
   "source": [
    "#### Genres with the most songs"
   ]
  },
  {
   "cell_type": "code",
   "execution_count": null,
   "metadata": {},
   "outputs": [],
   "source": [
    "unique_genres.sort_values(ascending=False).head(25)"
   ]
  },
  {
   "cell_type": "markdown",
   "metadata": {},
   "source": [
    "#### Distribution"
   ]
  },
  {
   "cell_type": "code",
   "execution_count": null,
   "metadata": {},
   "outputs": [],
   "source": [
    "unique_genres.hist(bins=15)\n",
    "plt.yscale('log')"
   ]
  },
  {
   "cell_type": "code",
   "execution_count": null,
   "metadata": {},
   "outputs": [],
   "source": [
    "unique_genres.describe()"
   ]
  },
  {
   "cell_type": "code",
   "execution_count": null,
   "metadata": {},
   "outputs": [],
   "source": [
    "unique_genres = unique_genres.loc[unique_genres > 25]\n",
    "n_genres = len(unique_genres)\n",
    "unique_genres.describe()"
   ]
  },
  {
   "cell_type": "code",
   "execution_count": null,
   "metadata": {},
   "outputs": [],
   "source": [
    "genre_to_idx = {genre:i for i,genre in enumerate(unique_genres.index)}\n",
    "idx_to_genre = {i:genre for i,genre in enumerate(unique_genres.index)}"
   ]
  },
  {
   "cell_type": "code",
   "execution_count": null,
   "metadata": {},
   "outputs": [],
   "source": [
    "adjacency_matrix = np.zeros((n_genres, n_genres))\n",
    "\n",
    "for artist_genres in artists.genres:\n",
    "    for genre1 in artist_genres:\n",
    "        for genre2 in artist_genres:\n",
    "            #if genre1 == genre2:\n",
    "            #    continue\n",
    "            try:\n",
    "                idx1 = genre_to_idx[genre1]\n",
    "                idx2 = genre_to_idx[genre2]\n",
    "                adjacency_matrix[idx1, idx2] += 1\n",
    "            except KeyError:\n",
    "                pass\n",
    "\n",
    "plt.figure(figsize=(8,8))\n",
    "plt.imshow(adjacency_matrix)\n",
    "plt.show()\n",
    "\n",
    "distance_matrix = 1 / (adjacency_matrix+1)**1.0\n",
    "plt.figure(figsize=(8,8))\n",
    "plt.imshow(distance_matrix)"
   ]
  },
  {
   "cell_type": "code",
   "execution_count": null,
   "metadata": {},
   "outputs": [],
   "source": [
    "tmp  = adjacency_matrix / adjacency_matrix.sum(axis=1, keepdims=True)\n",
    "adjacency_matrix = (tmp + tmp.T) / 2\n",
    "distance_matrix =  1 / (adjacency_matrix+1)**1.0"
   ]
  },
  {
   "cell_type": "code",
   "execution_count": null,
   "metadata": {},
   "outputs": [],
   "source": [
    "from sklearn.cluster import AgglomerativeClustering, DBSCAN, SpectralClustering\n",
    "\n",
    "clustering = AgglomerativeClustering(n_clusters = None, affinity='precomputed', linkage='average', distance_threshold=0.6)\n",
    "labels = clustering.fit_predict(distance_matrix)\n",
    "\n",
    "clustering = AgglomerativeClustering(n_clusters = None, affinity='precomputed', linkage='average', distance_threshold=0.997)\n",
    "labels = clustering.fit_predict(distance_matrix)\n",
    "\n",
    "\n",
    "#clustering = DBSCAN(eps= 0.2, metric='precomputed', min_samples=5)\n",
    "#labels = clustering.fit_predict(distance_matrix)\n",
    "\n",
    "#clustering = SpectralClustering(n_clusters=15)\n",
    "#labels = clustering.fit_predict(distance_matrix)"
   ]
  },
  {
   "cell_type": "code",
   "execution_count": null,
   "metadata": {},
   "outputs": [],
   "source": [
    "from pprint import pprint\n",
    "clusters = pd.Series({idx_to_genre[i]: label for i, label in enumerate(labels)})\n",
    "pprint({cluster: list(genres) for cluster, genres in clusters.groupby(clusters).groups.items()})"
   ]
  },
  {
   "cell_type": "code",
   "execution_count": null,
   "metadata": {},
   "outputs": [],
   "source": [
    "from scipy.cluster.hierarchy import dendrogram\n",
    "\n",
    "def plot_dendrogram(model, **kwargs):\n",
    "    # Create linkage matrix and then plot the dendrogram\n",
    "\n",
    "    # create the counts of samples under each node\n",
    "    counts = np.zeros(model.children_.shape[0])\n",
    "    n_samples = len(model.labels_)\n",
    "    for i, merge in enumerate(model.children_):\n",
    "        current_count = 0\n",
    "        for child_idx in merge:\n",
    "            if child_idx < n_samples:\n",
    "                current_count += 1  # leaf node\n",
    "            else:\n",
    "                current_count += counts[child_idx - n_samples]\n",
    "        counts[i] = current_count\n",
    "\n",
    "    linkage_matrix = np.column_stack(\n",
    "        [model.children_, model.distances_, counts]\n",
    "    ).astype(float)\n",
    "\n",
    "    # Plot the corresponding dendrogram\n",
    "    dendrogram(linkage_matrix, **kwargs)\n",
    "\n",
    "\n",
    "plt.figure(figsize=(15,15))\n",
    "plot_dendrogram(clustering)"
   ]
  },
  {
   "cell_type": "markdown",
   "metadata": {},
   "source": [
    "* coarse: 59.5% artists, 39.54% songs\n",
    "\n",
    "* 1: 55.64%, 36.94%\n",
    "* 2: 51.64%, 34.05%\n",
    "* 3: 49.82%, 32.69%\n",
    "* 4: 46.12%, 29.31%\n",
    "* 5: 44.8%, 28.65%\n",
    "\n",
    "* fine: 22.48% artists, 12.16% songs"
   ]
  },
  {
   "cell_type": "markdown",
   "metadata": {},
   "source": []
  }
 ],
 "metadata": {
  "interpreter": {
   "hash": "b7b16e428534846b27ce3d10bb4c7709e0fe07bf55e8683da2cd0afc79b49289"
  },
  "kernelspec": {
   "display_name": "Python 3.8.10 64-bit ('venv': venv)",
   "language": "python",
   "name": "python3"
  },
  "language_info": {
   "codemirror_mode": {
    "name": "ipython",
    "version": 3
   },
   "file_extension": ".py",
   "mimetype": "text/x-python",
   "name": "python",
   "nbconvert_exporter": "python",
   "pygments_lexer": "ipython3",
   "version": "3.8.10"
  },
  "orig_nbformat": 4
 },
 "nbformat": 4,
 "nbformat_minor": 2
}
