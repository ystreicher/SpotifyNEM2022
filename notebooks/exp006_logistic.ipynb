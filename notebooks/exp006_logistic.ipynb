{
 "cells": [
  {
   "cell_type": "code",
   "execution_count": 194,
   "id": "3fc7bb42-2414-47ce-acc8-917b418d19a3",
   "metadata": {},
   "outputs": [],
   "source": [
    "import pandas as pd\n",
    "import numpy as np\n",
    "import matplotlib.pyplot as plt\n",
    "import seaborn as sns"
   ]
  },
  {
   "cell_type": "code",
   "execution_count": 195,
   "id": "1e7ba5d6-699a-4a98-8dec-d8ef5b02ca62",
   "metadata": {},
   "outputs": [],
   "source": [
    "tracks = pd.read_csv('../songs_filtered.csv')\n",
    "# artists = pd.read_csv('../artists_filtered.csv')\n",
    "# artists['followers_log'] = np.log10(artists.followers + 1)"
   ]
  },
  {
   "cell_type": "code",
   "execution_count": 196,
   "id": "ae4fa002-3612-499a-bebe-a8959c8481a4",
   "metadata": {},
   "outputs": [],
   "source": [
    "features = [\n",
    "    'danceability',\n",
    "    'energy',\n",
    "    'key',\n",
    "    'loudness',\n",
    "    'mode',\n",
    "    'speechiness',\n",
    "    'acousticness',\n",
    "    'instrumentalness',  # extremly discriminative!\n",
    "    'liveness',\n",
    "    'valence',\n",
    "    'tempo',\n",
    "    'duration_ms',\n",
    "    'popularity',\n",
    "]\n",
    "\n",
    "tracks_relevant = tracks[features]"
   ]
  },
  {
   "cell_type": "code",
   "execution_count": 197,
   "id": "5eaf1c7b-d893-4bb1-bf71-085682809fe5",
   "metadata": {},
   "outputs": [
    {
     "data": {
      "text/html": [
       "<div>\n",
       "<style scoped>\n",
       "    .dataframe tbody tr th:only-of-type {\n",
       "        vertical-align: middle;\n",
       "    }\n",
       "\n",
       "    .dataframe tbody tr th {\n",
       "        vertical-align: top;\n",
       "    }\n",
       "\n",
       "    .dataframe thead th {\n",
       "        text-align: right;\n",
       "    }\n",
       "</style>\n",
       "<table border=\"1\" class=\"dataframe\">\n",
       "  <thead>\n",
       "    <tr style=\"text-align: right;\">\n",
       "      <th></th>\n",
       "      <th>id</th>\n",
       "      <th>name</th>\n",
       "      <th>album</th>\n",
       "      <th>album_id</th>\n",
       "      <th>artists</th>\n",
       "      <th>artist_ids</th>\n",
       "      <th>track_number</th>\n",
       "      <th>disc_number</th>\n",
       "      <th>explicit</th>\n",
       "      <th>danceability</th>\n",
       "      <th>...</th>\n",
       "      <th>tempo</th>\n",
       "      <th>duration_ms</th>\n",
       "      <th>time_signature</th>\n",
       "      <th>year</th>\n",
       "      <th>release_date</th>\n",
       "      <th>popularity</th>\n",
       "      <th>album_type</th>\n",
       "      <th>main_artist_id</th>\n",
       "      <th>genres</th>\n",
       "      <th>metagenre</th>\n",
       "    </tr>\n",
       "  </thead>\n",
       "  <tbody>\n",
       "    <tr>\n",
       "      <th>0</th>\n",
       "      <td>7lmeHLHBe4nmXzuXc0HDjk</td>\n",
       "      <td>Testify</td>\n",
       "      <td>The Battle Of Los Angeles</td>\n",
       "      <td>2eia0myWFgoHuttJytCxgX</td>\n",
       "      <td>['Rage Against The Machine']</td>\n",
       "      <td>['2d0hyoQ5ynDBnkvAbJKORj']</td>\n",
       "      <td>1</td>\n",
       "      <td>1</td>\n",
       "      <td>False</td>\n",
       "      <td>0.470</td>\n",
       "      <td>...</td>\n",
       "      <td>117.906</td>\n",
       "      <td>210133</td>\n",
       "      <td>4.0</td>\n",
       "      <td>1999</td>\n",
       "      <td>1999-11-02</td>\n",
       "      <td>66.0</td>\n",
       "      <td>album</td>\n",
       "      <td>2d0hyoQ5ynDBnkvAbJKORj</td>\n",
       "      <td>['alternative metal', 'alternative rock', 'con...</td>\n",
       "      <td>metal</td>\n",
       "    </tr>\n",
       "    <tr>\n",
       "      <th>1</th>\n",
       "      <td>1wsRitfRRtWyEapl0q22o8</td>\n",
       "      <td>Guerrilla Radio</td>\n",
       "      <td>The Battle Of Los Angeles</td>\n",
       "      <td>2eia0myWFgoHuttJytCxgX</td>\n",
       "      <td>['Rage Against The Machine']</td>\n",
       "      <td>['2d0hyoQ5ynDBnkvAbJKORj']</td>\n",
       "      <td>2</td>\n",
       "      <td>1</td>\n",
       "      <td>True</td>\n",
       "      <td>0.599</td>\n",
       "      <td>...</td>\n",
       "      <td>103.680</td>\n",
       "      <td>206200</td>\n",
       "      <td>4.0</td>\n",
       "      <td>1999</td>\n",
       "      <td>1999-11-02</td>\n",
       "      <td>71.0</td>\n",
       "      <td>album</td>\n",
       "      <td>2d0hyoQ5ynDBnkvAbJKORj</td>\n",
       "      <td>['alternative metal', 'alternative rock', 'con...</td>\n",
       "      <td>metal</td>\n",
       "    </tr>\n",
       "    <tr>\n",
       "      <th>2</th>\n",
       "      <td>1hR0fIFK2qRG3f3RF70pb7</td>\n",
       "      <td>Calm Like a Bomb</td>\n",
       "      <td>The Battle Of Los Angeles</td>\n",
       "      <td>2eia0myWFgoHuttJytCxgX</td>\n",
       "      <td>['Rage Against The Machine']</td>\n",
       "      <td>['2d0hyoQ5ynDBnkvAbJKORj']</td>\n",
       "      <td>3</td>\n",
       "      <td>1</td>\n",
       "      <td>False</td>\n",
       "      <td>0.315</td>\n",
       "      <td>...</td>\n",
       "      <td>149.749</td>\n",
       "      <td>298893</td>\n",
       "      <td>4.0</td>\n",
       "      <td>1999</td>\n",
       "      <td>1999-11-02</td>\n",
       "      <td>57.0</td>\n",
       "      <td>album</td>\n",
       "      <td>2d0hyoQ5ynDBnkvAbJKORj</td>\n",
       "      <td>['alternative metal', 'alternative rock', 'con...</td>\n",
       "      <td>metal</td>\n",
       "    </tr>\n",
       "    <tr>\n",
       "      <th>3</th>\n",
       "      <td>2lbASgTSoDO7MTuLAXlTW0</td>\n",
       "      <td>Mic Check</td>\n",
       "      <td>The Battle Of Los Angeles</td>\n",
       "      <td>2eia0myWFgoHuttJytCxgX</td>\n",
       "      <td>['Rage Against The Machine']</td>\n",
       "      <td>['2d0hyoQ5ynDBnkvAbJKORj']</td>\n",
       "      <td>4</td>\n",
       "      <td>1</td>\n",
       "      <td>True</td>\n",
       "      <td>0.440</td>\n",
       "      <td>...</td>\n",
       "      <td>96.752</td>\n",
       "      <td>213640</td>\n",
       "      <td>4.0</td>\n",
       "      <td>1999</td>\n",
       "      <td>1999-11-02</td>\n",
       "      <td>51.0</td>\n",
       "      <td>album</td>\n",
       "      <td>2d0hyoQ5ynDBnkvAbJKORj</td>\n",
       "      <td>['alternative metal', 'alternative rock', 'con...</td>\n",
       "      <td>metal</td>\n",
       "    </tr>\n",
       "    <tr>\n",
       "      <th>4</th>\n",
       "      <td>1MQTmpYOZ6fcMQc56Hdo7T</td>\n",
       "      <td>Sleep Now In the Fire</td>\n",
       "      <td>The Battle Of Los Angeles</td>\n",
       "      <td>2eia0myWFgoHuttJytCxgX</td>\n",
       "      <td>['Rage Against The Machine']</td>\n",
       "      <td>['2d0hyoQ5ynDBnkvAbJKORj']</td>\n",
       "      <td>5</td>\n",
       "      <td>1</td>\n",
       "      <td>False</td>\n",
       "      <td>0.426</td>\n",
       "      <td>...</td>\n",
       "      <td>127.059</td>\n",
       "      <td>205600</td>\n",
       "      <td>4.0</td>\n",
       "      <td>1999</td>\n",
       "      <td>1999-11-02</td>\n",
       "      <td>68.0</td>\n",
       "      <td>album</td>\n",
       "      <td>2d0hyoQ5ynDBnkvAbJKORj</td>\n",
       "      <td>['alternative metal', 'alternative rock', 'con...</td>\n",
       "      <td>metal</td>\n",
       "    </tr>\n",
       "    <tr>\n",
       "      <th>...</th>\n",
       "      <td>...</td>\n",
       "      <td>...</td>\n",
       "      <td>...</td>\n",
       "      <td>...</td>\n",
       "      <td>...</td>\n",
       "      <td>...</td>\n",
       "      <td>...</td>\n",
       "      <td>...</td>\n",
       "      <td>...</td>\n",
       "      <td>...</td>\n",
       "      <td>...</td>\n",
       "      <td>...</td>\n",
       "      <td>...</td>\n",
       "      <td>...</td>\n",
       "      <td>...</td>\n",
       "      <td>...</td>\n",
       "      <td>...</td>\n",
       "      <td>...</td>\n",
       "      <td>...</td>\n",
       "      <td>...</td>\n",
       "      <td>...</td>\n",
       "    </tr>\n",
       "    <tr>\n",
       "      <th>756677</th>\n",
       "      <td>4pqH5feu3uNB73ad9xEU9B</td>\n",
       "      <td>Winter Time</td>\n",
       "      <td>Christmas Blues</td>\n",
       "      <td>1wYxighrXciRyM6KjF5Gv2</td>\n",
       "      <td>['Sabrina Claudio', 'Alicia Keys']</td>\n",
       "      <td>['30DhU7BDmF4PH0JVhu8ZRg', '3DiDSECUqqY1AuBP8q...</td>\n",
       "      <td>5</td>\n",
       "      <td>1</td>\n",
       "      <td>False</td>\n",
       "      <td>0.579</td>\n",
       "      <td>...</td>\n",
       "      <td>132.255</td>\n",
       "      <td>182312</td>\n",
       "      <td>4.0</td>\n",
       "      <td>2020</td>\n",
       "      <td>2020-11-27</td>\n",
       "      <td>45.0</td>\n",
       "      <td>album</td>\n",
       "      <td>30DhU7BDmF4PH0JVhu8ZRg</td>\n",
       "      <td>['alternative r&amp;b', 'chill r&amp;b', 'pop', 'r&amp;b']</td>\n",
       "      <td>alternative r&amp;b</td>\n",
       "    </tr>\n",
       "    <tr>\n",
       "      <th>756678</th>\n",
       "      <td>4sxkBkYQKxMXfwynEConNR</td>\n",
       "      <td>Have Yourself A Merry Little Christmas</td>\n",
       "      <td>Christmas Blues</td>\n",
       "      <td>1wYxighrXciRyM6KjF5Gv2</td>\n",
       "      <td>['Sabrina Claudio']</td>\n",
       "      <td>['30DhU7BDmF4PH0JVhu8ZRg']</td>\n",
       "      <td>6</td>\n",
       "      <td>1</td>\n",
       "      <td>False</td>\n",
       "      <td>0.440</td>\n",
       "      <td>...</td>\n",
       "      <td>122.256</td>\n",
       "      <td>234478</td>\n",
       "      <td>4.0</td>\n",
       "      <td>2020</td>\n",
       "      <td>2020-11-27</td>\n",
       "      <td>40.0</td>\n",
       "      <td>album</td>\n",
       "      <td>30DhU7BDmF4PH0JVhu8ZRg</td>\n",
       "      <td>['alternative r&amp;b', 'chill r&amp;b', 'pop', 'r&amp;b']</td>\n",
       "      <td>alternative r&amp;b</td>\n",
       "    </tr>\n",
       "    <tr>\n",
       "      <th>756679</th>\n",
       "      <td>0984kdcFfmBkZv8M9x4wcb</td>\n",
       "      <td>Short Red Silk Lingerie</td>\n",
       "      <td>Christmas Blues</td>\n",
       "      <td>1wYxighrXciRyM6KjF5Gv2</td>\n",
       "      <td>['Sabrina Claudio']</td>\n",
       "      <td>['30DhU7BDmF4PH0JVhu8ZRg']</td>\n",
       "      <td>7</td>\n",
       "      <td>1</td>\n",
       "      <td>False</td>\n",
       "      <td>0.592</td>\n",
       "      <td>...</td>\n",
       "      <td>88.997</td>\n",
       "      <td>204591</td>\n",
       "      <td>3.0</td>\n",
       "      <td>2020</td>\n",
       "      <td>2020-11-27</td>\n",
       "      <td>43.0</td>\n",
       "      <td>album</td>\n",
       "      <td>30DhU7BDmF4PH0JVhu8ZRg</td>\n",
       "      <td>['alternative r&amp;b', 'chill r&amp;b', 'pop', 'r&amp;b']</td>\n",
       "      <td>alternative r&amp;b</td>\n",
       "    </tr>\n",
       "    <tr>\n",
       "      <th>756680</th>\n",
       "      <td>5z7PRDOZGxMZqEIzNWKYjT</td>\n",
       "      <td>Warm December</td>\n",
       "      <td>Christmas Blues</td>\n",
       "      <td>1wYxighrXciRyM6KjF5Gv2</td>\n",
       "      <td>['Sabrina Claudio']</td>\n",
       "      <td>['30DhU7BDmF4PH0JVhu8ZRg']</td>\n",
       "      <td>8</td>\n",
       "      <td>1</td>\n",
       "      <td>False</td>\n",
       "      <td>0.329</td>\n",
       "      <td>...</td>\n",
       "      <td>134.259</td>\n",
       "      <td>195669</td>\n",
       "      <td>4.0</td>\n",
       "      <td>2020</td>\n",
       "      <td>2020-11-27</td>\n",
       "      <td>46.0</td>\n",
       "      <td>album</td>\n",
       "      <td>30DhU7BDmF4PH0JVhu8ZRg</td>\n",
       "      <td>['alternative r&amp;b', 'chill r&amp;b', 'pop', 'r&amp;b']</td>\n",
       "      <td>alternative r&amp;b</td>\n",
       "    </tr>\n",
       "    <tr>\n",
       "      <th>756681</th>\n",
       "      <td>2Iv6YBslkxslMJQsxshZh5</td>\n",
       "      <td>CANTARES DE NAVIDAD</td>\n",
       "      <td>EL ÚLTIMO TOUR DEL MUNDO</td>\n",
       "      <td>2d9BCZeAAhiZWPpbX9aPCW</td>\n",
       "      <td>['Trio Vegabajeño']</td>\n",
       "      <td>['5TphiK6LsT4X5NOZxq3NJB']</td>\n",
       "      <td>16</td>\n",
       "      <td>1</td>\n",
       "      <td>False</td>\n",
       "      <td>0.764</td>\n",
       "      <td>...</td>\n",
       "      <td>118.671</td>\n",
       "      <td>199720</td>\n",
       "      <td>4.0</td>\n",
       "      <td>2020</td>\n",
       "      <td>2020-11-27</td>\n",
       "      <td>62.0</td>\n",
       "      <td>album</td>\n",
       "      <td>5TphiK6LsT4X5NOZxq3NJB</td>\n",
       "      <td>['musica jibara', 'puerto rican folk']</td>\n",
       "      <td>unknown</td>\n",
       "    </tr>\n",
       "  </tbody>\n",
       "</table>\n",
       "<p>756682 rows × 29 columns</p>\n",
       "</div>"
      ],
      "text/plain": [
       "                            id                                    name  \\\n",
       "0       7lmeHLHBe4nmXzuXc0HDjk                                 Testify   \n",
       "1       1wsRitfRRtWyEapl0q22o8                         Guerrilla Radio   \n",
       "2       1hR0fIFK2qRG3f3RF70pb7                        Calm Like a Bomb   \n",
       "3       2lbASgTSoDO7MTuLAXlTW0                               Mic Check   \n",
       "4       1MQTmpYOZ6fcMQc56Hdo7T                   Sleep Now In the Fire   \n",
       "...                        ...                                     ...   \n",
       "756677  4pqH5feu3uNB73ad9xEU9B                             Winter Time   \n",
       "756678  4sxkBkYQKxMXfwynEConNR  Have Yourself A Merry Little Christmas   \n",
       "756679  0984kdcFfmBkZv8M9x4wcb                 Short Red Silk Lingerie   \n",
       "756680  5z7PRDOZGxMZqEIzNWKYjT                           Warm December   \n",
       "756681  2Iv6YBslkxslMJQsxshZh5                     CANTARES DE NAVIDAD   \n",
       "\n",
       "                            album                album_id  \\\n",
       "0       The Battle Of Los Angeles  2eia0myWFgoHuttJytCxgX   \n",
       "1       The Battle Of Los Angeles  2eia0myWFgoHuttJytCxgX   \n",
       "2       The Battle Of Los Angeles  2eia0myWFgoHuttJytCxgX   \n",
       "3       The Battle Of Los Angeles  2eia0myWFgoHuttJytCxgX   \n",
       "4       The Battle Of Los Angeles  2eia0myWFgoHuttJytCxgX   \n",
       "...                           ...                     ...   \n",
       "756677            Christmas Blues  1wYxighrXciRyM6KjF5Gv2   \n",
       "756678            Christmas Blues  1wYxighrXciRyM6KjF5Gv2   \n",
       "756679            Christmas Blues  1wYxighrXciRyM6KjF5Gv2   \n",
       "756680            Christmas Blues  1wYxighrXciRyM6KjF5Gv2   \n",
       "756681   EL ÚLTIMO TOUR DEL MUNDO  2d9BCZeAAhiZWPpbX9aPCW   \n",
       "\n",
       "                                   artists  \\\n",
       "0             ['Rage Against The Machine']   \n",
       "1             ['Rage Against The Machine']   \n",
       "2             ['Rage Against The Machine']   \n",
       "3             ['Rage Against The Machine']   \n",
       "4             ['Rage Against The Machine']   \n",
       "...                                    ...   \n",
       "756677  ['Sabrina Claudio', 'Alicia Keys']   \n",
       "756678                 ['Sabrina Claudio']   \n",
       "756679                 ['Sabrina Claudio']   \n",
       "756680                 ['Sabrina Claudio']   \n",
       "756681                 ['Trio Vegabajeño']   \n",
       "\n",
       "                                               artist_ids  track_number  \\\n",
       "0                              ['2d0hyoQ5ynDBnkvAbJKORj']             1   \n",
       "1                              ['2d0hyoQ5ynDBnkvAbJKORj']             2   \n",
       "2                              ['2d0hyoQ5ynDBnkvAbJKORj']             3   \n",
       "3                              ['2d0hyoQ5ynDBnkvAbJKORj']             4   \n",
       "4                              ['2d0hyoQ5ynDBnkvAbJKORj']             5   \n",
       "...                                                   ...           ...   \n",
       "756677  ['30DhU7BDmF4PH0JVhu8ZRg', '3DiDSECUqqY1AuBP8q...             5   \n",
       "756678                         ['30DhU7BDmF4PH0JVhu8ZRg']             6   \n",
       "756679                         ['30DhU7BDmF4PH0JVhu8ZRg']             7   \n",
       "756680                         ['30DhU7BDmF4PH0JVhu8ZRg']             8   \n",
       "756681                         ['5TphiK6LsT4X5NOZxq3NJB']            16   \n",
       "\n",
       "        disc_number  explicit  danceability  ...    tempo  duration_ms  \\\n",
       "0                 1     False         0.470  ...  117.906       210133   \n",
       "1                 1      True         0.599  ...  103.680       206200   \n",
       "2                 1     False         0.315  ...  149.749       298893   \n",
       "3                 1      True         0.440  ...   96.752       213640   \n",
       "4                 1     False         0.426  ...  127.059       205600   \n",
       "...             ...       ...           ...  ...      ...          ...   \n",
       "756677            1     False         0.579  ...  132.255       182312   \n",
       "756678            1     False         0.440  ...  122.256       234478   \n",
       "756679            1     False         0.592  ...   88.997       204591   \n",
       "756680            1     False         0.329  ...  134.259       195669   \n",
       "756681            1     False         0.764  ...  118.671       199720   \n",
       "\n",
       "        time_signature  year  release_date  popularity  album_type  \\\n",
       "0                  4.0  1999    1999-11-02        66.0       album   \n",
       "1                  4.0  1999    1999-11-02        71.0       album   \n",
       "2                  4.0  1999    1999-11-02        57.0       album   \n",
       "3                  4.0  1999    1999-11-02        51.0       album   \n",
       "4                  4.0  1999    1999-11-02        68.0       album   \n",
       "...                ...   ...           ...         ...         ...   \n",
       "756677             4.0  2020    2020-11-27        45.0       album   \n",
       "756678             4.0  2020    2020-11-27        40.0       album   \n",
       "756679             3.0  2020    2020-11-27        43.0       album   \n",
       "756680             4.0  2020    2020-11-27        46.0       album   \n",
       "756681             4.0  2020    2020-11-27        62.0       album   \n",
       "\n",
       "                main_artist_id  \\\n",
       "0       2d0hyoQ5ynDBnkvAbJKORj   \n",
       "1       2d0hyoQ5ynDBnkvAbJKORj   \n",
       "2       2d0hyoQ5ynDBnkvAbJKORj   \n",
       "3       2d0hyoQ5ynDBnkvAbJKORj   \n",
       "4       2d0hyoQ5ynDBnkvAbJKORj   \n",
       "...                        ...   \n",
       "756677  30DhU7BDmF4PH0JVhu8ZRg   \n",
       "756678  30DhU7BDmF4PH0JVhu8ZRg   \n",
       "756679  30DhU7BDmF4PH0JVhu8ZRg   \n",
       "756680  30DhU7BDmF4PH0JVhu8ZRg   \n",
       "756681  5TphiK6LsT4X5NOZxq3NJB   \n",
       "\n",
       "                                                   genres        metagenre  \n",
       "0       ['alternative metal', 'alternative rock', 'con...            metal  \n",
       "1       ['alternative metal', 'alternative rock', 'con...            metal  \n",
       "2       ['alternative metal', 'alternative rock', 'con...            metal  \n",
       "3       ['alternative metal', 'alternative rock', 'con...            metal  \n",
       "4       ['alternative metal', 'alternative rock', 'con...            metal  \n",
       "...                                                   ...              ...  \n",
       "756677     ['alternative r&b', 'chill r&b', 'pop', 'r&b']  alternative r&b  \n",
       "756678     ['alternative r&b', 'chill r&b', 'pop', 'r&b']  alternative r&b  \n",
       "756679     ['alternative r&b', 'chill r&b', 'pop', 'r&b']  alternative r&b  \n",
       "756680     ['alternative r&b', 'chill r&b', 'pop', 'r&b']  alternative r&b  \n",
       "756681             ['musica jibara', 'puerto rican folk']          unknown  \n",
       "\n",
       "[756682 rows x 29 columns]"
      ]
     },
     "execution_count": 197,
     "metadata": {},
     "output_type": "execute_result"
    }
   ],
   "source": [
    "tracks"
   ]
  },
  {
   "cell_type": "raw",
   "id": "e1220c8b-0a2e-4466-a169-37380a3dc76a",
   "metadata": {},
   "source": [
    "plt.scatter(data_mat[:,16] / np.std(data_mat[:,16]), data_mat[:, 1] / np.std(data_mat[:,1]), alpha= 0.2, s=0.6)"
   ]
  },
  {
   "cell_type": "code",
   "execution_count": 198,
   "id": "f4f1f0eb-470f-49a2-899f-a40c09f51168",
   "metadata": {},
   "outputs": [
    {
     "data": {
      "text/plain": [
       "<AxesSubplot:>"
      ]
     },
     "execution_count": 198,
     "metadata": {},
     "output_type": "execute_result"
    },
    {
     "data": {
      "image/png": "[encoded data removed]",
      "text/plain": [
       "<Figure size 1152x432 with 2 Axes>"
      ]
     },
     "metadata": {
      "needs_background": "light"
     },
     "output_type": "display_data"
    }
   ],
   "source": [
    "plt.figure(figsize=(16, 6))\n",
    "sns.heatmap(tracks_relevant.corr(), annot=True)"
   ]
  },
  {
   "cell_type": "raw",
   "id": "277b9cb7-3f10-4687-b848-511f3a2b16c5",
   "metadata": {},
   "source": [
    "tracks['is_popular'] = tracks['popularity'] > 20"
   ]
  },
  {
   "cell_type": "raw",
   "id": "72cd5f9e-0da4-4c57-af41-9c2c359fde3f",
   "metadata": {},
   "source": [
    "import seaborn as sns\n",
    "sns.pairplot(tracks.sample(10000), vars=['key', 'energy', 'year', 'duration_ms', 'danceability', 'loudness'], diag_kind='kde', hue='is_popular', diag_kws={\"common_norm\":False})"
   ]
  },
  {
   "cell_type": "code",
   "execution_count": 219,
   "id": "21853355-6c9a-4edc-90a7-f676bbbc6c6a",
   "metadata": {},
   "outputs": [],
   "source": [
    "from sklearn.linear_model import LogisticRegression\n",
    "from sklearn.preprocessing import StandardScaler\n",
    "from sklearn.pipeline import make_pipeline\n",
    "from sklearn.model_selection import train_test_split, GridSearchCV\n",
    "from sklearn.metrics import roc_curve, auc, roc_auc_score, accuracy_score, confusion_matrix"
   ]
  },
  {
   "cell_type": "code",
   "execution_count": 220,
   "id": "2ac9f416-59d6-4f49-aead-b79c25fccd14",
   "metadata": {},
   "outputs": [],
   "source": [
    "n_features = tracks_relevant.values.shape[1] - 1\n",
    "\n",
    "X = tracks_relevant.values[:, :n_features]\n",
    "y = tracks_relevant.values[:, n_features]"
   ]
  },
  {
   "cell_type": "code",
   "execution_count": 221,
   "id": "34da3a6f-6a08-4e68-b65a-964e4f9a5067",
   "metadata": {},
   "outputs": [
    {
     "data": {
      "text/plain": [
       "4.0"
      ]
     },
     "execution_count": 221,
     "metadata": {},
     "output_type": "execute_result"
    }
   ],
   "source": [
    "np.quantile(y, 0.5)"
   ]
  },
  {
   "cell_type": "code",
   "execution_count": 222,
   "id": "b8d3866e-ee2c-42d8-a48f-02e164bb9bdf",
   "metadata": {},
   "outputs": [],
   "source": [
    "y = np.where(y > np.quantile(y, 0.9), 1, 0)"
   ]
  },
  {
   "cell_type": "code",
   "execution_count": 223,
   "id": "08997776-b0e4-41cd-ac13-9e1341f2a3c6",
   "metadata": {},
   "outputs": [
    {
     "data": {
      "text/plain": [
       "array([1, 1, 1, ..., 1, 1, 1])"
      ]
     },
     "execution_count": 223,
     "metadata": {},
     "output_type": "execute_result"
    }
   ],
   "source": [
    "y"
   ]
  },
  {
   "cell_type": "code",
   "execution_count": 224,
   "id": "411c1a4e-149f-4911-b095-daa1436851d6",
   "metadata": {},
   "outputs": [],
   "source": [
    "X_train, X_test, y_train, y_test = train_test_split(X, y, train_size=0.8)\n",
    "pipe = make_pipeline(StandardScaler(), GridSearchCV(\n",
    "    LogisticRegression(),\n",
    "    param_grid={\n",
    "        'penalty': ['l2'],\n",
    "        'class_weight': ['balanced'],\n",
    "        # 'l1_ratio': [0.5],\n",
    "        # 'solver': ['saga'],\n",
    "        'C': np.logspace(-3, 3, 5)\n",
    "    },\n",
    "    cv=5,\n",
    "    refit=True)\n",
    ")"
   ]
  },
  {
   "cell_type": "code",
   "execution_count": 225,
   "id": "a636c7ad-996c-459f-8837-50ca79ec9f23",
   "metadata": {},
   "outputs": [
    {
     "data": {
      "text/plain": [
       "dict_keys(['C', 'class_weight', 'dual', 'fit_intercept', 'intercept_scaling', 'l1_ratio', 'max_iter', 'multi_class', 'n_jobs', 'penalty', 'random_state', 'solver', 'tol', 'verbose', 'warm_start'])"
      ]
     },
     "execution_count": 225,
     "metadata": {},
     "output_type": "execute_result"
    }
   ],
   "source": [
    "LogisticRegression().get_params().keys()"
   ]
  },
  {
   "cell_type": "code",
   "execution_count": 226,
   "id": "941192b1-0911-4a1c-bb6b-8dcc7f94a578",
   "metadata": {},
   "outputs": [
    {
     "data": {
      "text/plain": [
       "(array([0, 1]), array([547699,  57646]))"
      ]
     },
     "execution_count": 226,
     "metadata": {},
     "output_type": "execute_result"
    }
   ],
   "source": [
    "np.unique(y_train, return_counts=True)"
   ]
  },
  {
   "cell_type": "code",
   "execution_count": 227,
   "id": "86d3809e-2c91-4c8f-9aa2-130df9aaec97",
   "metadata": {},
   "outputs": [
    {
     "data": {
      "text/plain": [
       "Pipeline(steps=[('standardscaler', StandardScaler()),\n",
       "                ('gridsearchcv',\n",
       "                 GridSearchCV(cv=5, estimator=LogisticRegression(),\n",
       "                              param_grid={'C': array([1.00000000e-03, 3.16227766e-02, 1.00000000e+00, 3.16227766e+01,\n",
       "       1.00000000e+03]),\n",
       "                                          'class_weight': ['balanced'],\n",
       "                                          'penalty': ['l2']}))])"
      ]
     },
     "execution_count": 227,
     "metadata": {},
     "output_type": "execute_result"
    }
   ],
   "source": [
    "pipe.fit(X_train, y_train)"
   ]
  },
  {
   "cell_type": "code",
   "execution_count": 228,
   "id": "da194897-fba6-4beb-9e56-b34261600b2d",
   "metadata": {},
   "outputs": [],
   "source": [
    "w = pipe.steps[1][1].best_estimator_.coef_"
   ]
  },
  {
   "cell_type": "code",
   "execution_count": 229,
   "id": "8f3a8f94-ac15-45df-b437-0808e000bcc6",
   "metadata": {},
   "outputs": [
    {
     "data": {
      "text/plain": [
       "array([[78727, 58016],\n",
       "       [ 3680, 10914]])"
      ]
     },
     "execution_count": 229,
     "metadata": {},
     "output_type": "execute_result"
    }
   ],
   "source": [
    "predictions = pipe.predict(X_test)\n",
    "confusion_matrix(y_test, predictions)"
   ]
  },
  {
   "cell_type": "code",
   "execution_count": 230,
   "id": "6169de4d-5bc2-4047-9b03-a985934672dd",
   "metadata": {},
   "outputs": [
    {
     "data": {
      "text/html": [
       "<div>\n",
       "<style scoped>\n",
       "    .dataframe tbody tr th:only-of-type {\n",
       "        vertical-align: middle;\n",
       "    }\n",
       "\n",
       "    .dataframe tbody tr th {\n",
       "        vertical-align: top;\n",
       "    }\n",
       "\n",
       "    .dataframe thead th {\n",
       "        text-align: right;\n",
       "    }\n",
       "</style>\n",
       "<table border=\"1\" class=\"dataframe\">\n",
       "  <thead>\n",
       "    <tr style=\"text-align: right;\">\n",
       "      <th></th>\n",
       "      <th>mean_fit_time</th>\n",
       "      <th>std_fit_time</th>\n",
       "      <th>mean_score_time</th>\n",
       "      <th>std_score_time</th>\n",
       "      <th>param_C</th>\n",
       "      <th>param_class_weight</th>\n",
       "      <th>param_penalty</th>\n",
       "      <th>params</th>\n",
       "      <th>split0_test_score</th>\n",
       "      <th>split1_test_score</th>\n",
       "      <th>split2_test_score</th>\n",
       "      <th>split3_test_score</th>\n",
       "      <th>split4_test_score</th>\n",
       "      <th>mean_test_score</th>\n",
       "      <th>std_test_score</th>\n",
       "      <th>rank_test_score</th>\n",
       "    </tr>\n",
       "  </thead>\n",
       "  <tbody>\n",
       "    <tr>\n",
       "      <th>2</th>\n",
       "      <td>0.498319</td>\n",
       "      <td>0.021717</td>\n",
       "      <td>0.008519</td>\n",
       "      <td>0.000785</td>\n",
       "      <td>1.0</td>\n",
       "      <td>balanced</td>\n",
       "      <td>l2</td>\n",
       "      <td>{'C': 1.0, 'class_weight': 'balanced', 'penalt...</td>\n",
       "      <td>0.593166</td>\n",
       "      <td>0.592571</td>\n",
       "      <td>0.590077</td>\n",
       "      <td>0.588516</td>\n",
       "      <td>0.592109</td>\n",
       "      <td>0.591288</td>\n",
       "      <td>0.001732</td>\n",
       "      <td>1</td>\n",
       "    </tr>\n",
       "    <tr>\n",
       "      <th>3</th>\n",
       "      <td>0.482128</td>\n",
       "      <td>0.005429</td>\n",
       "      <td>0.008274</td>\n",
       "      <td>0.000868</td>\n",
       "      <td>31.622777</td>\n",
       "      <td>balanced</td>\n",
       "      <td>l2</td>\n",
       "      <td>{'C': 31.622776601683793, 'class_weight': 'bal...</td>\n",
       "      <td>0.593158</td>\n",
       "      <td>0.592563</td>\n",
       "      <td>0.590077</td>\n",
       "      <td>0.588507</td>\n",
       "      <td>0.592100</td>\n",
       "      <td>0.591281</td>\n",
       "      <td>0.001731</td>\n",
       "      <td>2</td>\n",
       "    </tr>\n",
       "    <tr>\n",
       "      <th>4</th>\n",
       "      <td>0.495771</td>\n",
       "      <td>0.004948</td>\n",
       "      <td>0.008015</td>\n",
       "      <td>0.000317</td>\n",
       "      <td>1000.0</td>\n",
       "      <td>balanced</td>\n",
       "      <td>l2</td>\n",
       "      <td>{'C': 1000.0, 'class_weight': 'balanced', 'pen...</td>\n",
       "      <td>0.593158</td>\n",
       "      <td>0.592563</td>\n",
       "      <td>0.590077</td>\n",
       "      <td>0.588507</td>\n",
       "      <td>0.592100</td>\n",
       "      <td>0.591281</td>\n",
       "      <td>0.001731</td>\n",
       "      <td>2</td>\n",
       "    </tr>\n",
       "    <tr>\n",
       "      <th>1</th>\n",
       "      <td>0.489398</td>\n",
       "      <td>0.003602</td>\n",
       "      <td>0.008256</td>\n",
       "      <td>0.000789</td>\n",
       "      <td>0.031623</td>\n",
       "      <td>balanced</td>\n",
       "      <td>l2</td>\n",
       "      <td>{'C': 0.03162277660168379, 'class_weight': 'ba...</td>\n",
       "      <td>0.593100</td>\n",
       "      <td>0.592522</td>\n",
       "      <td>0.590052</td>\n",
       "      <td>0.588441</td>\n",
       "      <td>0.592109</td>\n",
       "      <td>0.591245</td>\n",
       "      <td>0.001738</td>\n",
       "      <td>4</td>\n",
       "    </tr>\n",
       "    <tr>\n",
       "      <th>0</th>\n",
       "      <td>0.503006</td>\n",
       "      <td>0.008024</td>\n",
       "      <td>0.008946</td>\n",
       "      <td>0.000783</td>\n",
       "      <td>0.001</td>\n",
       "      <td>balanced</td>\n",
       "      <td>l2</td>\n",
       "      <td>{'C': 0.001, 'class_weight': 'balanced', 'pena...</td>\n",
       "      <td>0.592398</td>\n",
       "      <td>0.591663</td>\n",
       "      <td>0.589399</td>\n",
       "      <td>0.587268</td>\n",
       "      <td>0.591588</td>\n",
       "      <td>0.590463</td>\n",
       "      <td>0.001886</td>\n",
       "      <td>5</td>\n",
       "    </tr>\n",
       "  </tbody>\n",
       "</table>\n",
       "</div>"
      ],
      "text/plain": [
       "   mean_fit_time  std_fit_time  mean_score_time  std_score_time    param_C  \\\n",
       "2       0.498319      0.021717         0.008519        0.000785        1.0   \n",
       "3       0.482128      0.005429         0.008274        0.000868  31.622777   \n",
       "4       0.495771      0.004948         0.008015        0.000317     1000.0   \n",
       "1       0.489398      0.003602         0.008256        0.000789   0.031623   \n",
       "0       0.503006      0.008024         0.008946        0.000783      0.001   \n",
       "\n",
       "  param_class_weight param_penalty  \\\n",
       "2           balanced            l2   \n",
       "3           balanced            l2   \n",
       "4           balanced            l2   \n",
       "1           balanced            l2   \n",
       "0           balanced            l2   \n",
       "\n",
       "                                              params  split0_test_score  \\\n",
       "2  {'C': 1.0, 'class_weight': 'balanced', 'penalt...           0.593166   \n",
       "3  {'C': 31.622776601683793, 'class_weight': 'bal...           0.593158   \n",
       "4  {'C': 1000.0, 'class_weight': 'balanced', 'pen...           0.593158   \n",
       "1  {'C': 0.03162277660168379, 'class_weight': 'ba...           0.593100   \n",
       "0  {'C': 0.001, 'class_weight': 'balanced', 'pena...           0.592398   \n",
       "\n",
       "   split1_test_score  split2_test_score  split3_test_score  split4_test_score  \\\n",
       "2           0.592571           0.590077           0.588516           0.592109   \n",
       "3           0.592563           0.590077           0.588507           0.592100   \n",
       "4           0.592563           0.590077           0.588507           0.592100   \n",
       "1           0.592522           0.590052           0.588441           0.592109   \n",
       "0           0.591663           0.589399           0.587268           0.591588   \n",
       "\n",
       "   mean_test_score  std_test_score  rank_test_score  \n",
       "2         0.591288        0.001732                1  \n",
       "3         0.591281        0.001731                2  \n",
       "4         0.591281        0.001731                2  \n",
       "1         0.591245        0.001738                4  \n",
       "0         0.590463        0.001886                5  "
      ]
     },
     "execution_count": 230,
     "metadata": {},
     "output_type": "execute_result"
    }
   ],
   "source": [
    "pd.DataFrame(pipe.steps[1][1].cv_results_).sort_values(by='rank_test_score')"
   ]
  },
  {
   "cell_type": "code",
   "execution_count": 231,
   "id": "5ee82db8-5fbb-47d3-90e2-73adf813ae61",
   "metadata": {},
   "outputs": [
    {
     "data": {
      "text/plain": [
       "0.5923270581549787"
      ]
     },
     "execution_count": 231,
     "metadata": {},
     "output_type": "execute_result"
    }
   ],
   "source": [
    "accuracy_score(pipe.predict(X_test), y_test)"
   ]
  },
  {
   "cell_type": "code",
   "execution_count": 232,
   "id": "30f5175a-53da-49ee-83e2-3dbabb369c20",
   "metadata": {},
   "outputs": [
    {
     "data": {
      "text/plain": [
       "array([[ 0.3486011 , -0.3124227 , -0.00693695,  0.78800806, -0.04897687,\n",
       "        -0.05827021, -0.22336794, -0.33835749, -0.05693784, -0.26710769,\n",
       "         0.04350767, -0.09279876]])"
      ]
     },
     "execution_count": 232,
     "metadata": {},
     "output_type": "execute_result"
    }
   ],
   "source": [
    "w"
   ]
  },
  {
   "cell_type": "code",
   "execution_count": 233,
   "id": "64f2a0ea-27ea-4cbe-a113-0e213f635765",
   "metadata": {},
   "outputs": [
    {
     "data": {
      "text/plain": [
       "<BarContainer object of 12 artists>"
      ]
     },
     "execution_count": 233,
     "metadata": {},
     "output_type": "execute_result"
    },
    {
     "data": {
      "image/png": "[encoded data removed]",
      "text/plain": [
       "<Figure size 432x288 with 1 Axes>"
      ]
     },
     "metadata": {
      "needs_background": "light"
     },
     "output_type": "display_data"
    }
   ],
   "source": [
    "plt.bar(np.arange(len(w[0])), w[0])"
   ]
  },
  {
   "cell_type": "code",
   "execution_count": 234,
   "id": "fc48b553-500a-4594-90ba-cac2ea5682f1",
   "metadata": {},
   "outputs": [
    {
     "data": {
      "image/png": "[encoded data removed]",
      "text/plain": [
       "<Figure size 432x288 with 1 Axes>"
      ]
     },
     "metadata": {
      "needs_background": "light"
     },
     "output_type": "display_data"
    }
   ],
   "source": [
    "import sklearn.metrics as metrics\n",
    "# calculate the fpr and tpr for all thresholds of the classification\n",
    "probs = pipe.predict_proba(X_test)\n",
    "preds = probs[:,1]\n",
    "fpr, tpr, threshold = metrics.roc_curve(y_test, preds)\n",
    "roc_auc = metrics.auc(fpr, tpr)\n",
    "\n",
    "# method I: plt\n",
    "import matplotlib.pyplot as plt\n",
    "plt.title('Receiver Operating Characteristic')\n",
    "plt.plot(fpr, tpr, 'b', label = 'AUC = %0.2f' % roc_auc)\n",
    "plt.legend(loc = 'lower right')\n",
    "plt.plot([0, 1], [0, 1],'r--')\n",
    "plt.xlim([0, 1])\n",
    "plt.ylim([0, 1])\n",
    "plt.ylabel('True Positive Rate')\n",
    "plt.xlabel('False Positive Rate')\n",
    "plt.show()"
   ]
  },
  {
   "cell_type": "code",
   "execution_count": 235,
   "id": "b4dca89a-d24c-498e-8737-ccc76fc094eb",
   "metadata": {},
   "outputs": [],
   "source": [
    "from sklearn.metrics import classification_report"
   ]
  },
  {
   "cell_type": "code",
   "execution_count": 236,
   "id": "26bd6956-6164-43e2-bcaf-1398a4b3e940",
   "metadata": {},
   "outputs": [
    {
     "name": "stdout",
     "output_type": "stream",
     "text": [
      "              precision    recall  f1-score   support\n",
      "\n",
      "           0       0.96      0.58      0.72    136743\n",
      "           1       0.16      0.75      0.26     14594\n",
      "\n",
      "    accuracy                           0.59    151337\n",
      "   macro avg       0.56      0.66      0.49    151337\n",
      "weighted avg       0.88      0.59      0.67    151337\n",
      "\n"
     ]
    }
   ],
   "source": [
    "report = classification_report(y_test, predictions)\n",
    "\n",
    "print(report)"
   ]
  },
  {
   "cell_type": "code",
   "execution_count": null,
   "id": "0b401b30-d14f-4bea-a994-d5d72ab663d8",
   "metadata": {},
   "outputs": [],
   "source": []
  },
  {
   "cell_type": "code",
   "execution_count": null,
   "id": "f20ca19e-326d-436d-82d8-43467460b493",
   "metadata": {},
   "outputs": [],
   "source": []
  }
 ],
 "metadata": {
  "kernelspec": {
   "display_name": "Python 3 (ipykernel)",
   "language": "python",
   "name": "python3"
  },
  "language_info": {
   "codemirror_mode": {
    "name": "ipython",
    "version": 3
   },
   "file_extension": ".py",
   "mimetype": "text/x-python",
   "name": "python",
   "nbconvert_exporter": "python",
   "pygments_lexer": "ipython3",
   "version": "3.7.11"
  }
 },
 "nbformat": 4,
 "nbformat_minor": 5
}
