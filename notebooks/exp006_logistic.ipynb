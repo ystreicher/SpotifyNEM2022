{
 "cells": [
  {
   "cell_type": "code",
   "execution_count": 194,
   "id": "3fc7bb42-2414-47ce-acc8-917b418d19a3",
   "metadata": {},
   "outputs": [],
   "source": [
    "import pandas as pd\n",
    "import numpy as np\n",
    "import matplotlib.pyplot as plt\n",
    "import seaborn as sns"
   ]
  },
  {
   "cell_type": "code",
   "execution_count": 195,
   "id": "1e7ba5d6-699a-4a98-8dec-d8ef5b02ca62",
   "metadata": {},
   "outputs": [],
   "source": [
    "tracks = pd.read_csv('../songs_filtered.csv')\n",
    "# artists = pd.read_csv('../artists_filtered.csv')\n",
    "# artists['followers_log'] = np.log10(artists.followers + 1)"
   ]
  },
  {
   "cell_type": "code",
   "execution_count": 196,
   "id": "ae4fa002-3612-499a-bebe-a8959c8481a4",
   "metadata": {},
   "outputs": [],
   "source": [
    "features = [\n",
    "    'danceability',\n",
    "    'energy',\n",
    "    'key',\n",
    "    'loudness',\n",
    "    'mode',\n",
    "    'speechiness',\n",
    "    'acousticness',\n",
    "    'instrumentalness',  # extremly discriminative!\n",
    "    'liveness',\n",
    "    'valence',\n",
    "    'tempo',\n",
    "    'duration_ms',\n",
    "    'popularity',\n",
    "]\n",
    "\n",
    "tracks_relevant = tracks[features]"
   ]
  },
  {
   "cell_type": "code",
   "execution_count": 197,
   "id": "5eaf1c7b-d893-4bb1-bf71-085682809fe5",
   "metadata": {},
   "outputs": [
    {
     "data": {
      "text/html": [
       "<div>\n",
       "<style scoped>\n",
       "    .dataframe tbody tr th:only-of-type {\n",
       "        vertical-align: middle;\n",
       "    }\n",
       "\n",
       "    .dataframe tbody tr th {\n",
       "        vertical-align: top;\n",
       "    }\n",
       "\n",
       "    .dataframe thead th {\n",
       "        text-align: right;\n",
       "    }\n",
       "</style>\n",
       "<table border=\"1\" class=\"dataframe\">\n",
       "  <thead>\n",
       "    <tr style=\"text-align: right;\">\n",
       "      <th></th>\n",
       "      <th>id</th>\n",
       "      <th>name</th>\n",
       "      <th>album</th>\n",
       "      <th>album_id</th>\n",
       "      <th>artists</th>\n",
       "      <th>artist_ids</th>\n",
       "      <th>track_number</th>\n",
       "      <th>disc_number</th>\n",
       "      <th>explicit</th>\n",
       "      <th>danceability</th>\n",
       "      <th>...</th>\n",
       "      <th>tempo</th>\n",
       "      <th>duration_ms</th>\n",
       "      <th>time_signature</th>\n",
       "      <th>year</th>\n",
       "      <th>release_date</th>\n",
       "      <th>popularity</th>\n",
       "      <th>album_type</th>\n",
       "      <th>main_artist_id</th>\n",
       "      <th>genres</th>\n",
       "      <th>metagenre</th>\n",
       "    </tr>\n",
       "  </thead>\n",
       "  <tbody>\n",
       "    <tr>\n",
       "      <th>0</th>\n",
       "      <td>7lmeHLHBe4nmXzuXc0HDjk</td>\n",
       "      <td>Testify</td>\n",
       "      <td>The Battle Of Los Angeles</td>\n",
       "      <td>2eia0myWFgoHuttJytCxgX</td>\n",
       "      <td>['Rage Against The Machine']</td>\n",
       "      <td>['2d0hyoQ5ynDBnkvAbJKORj']</td>\n",
       "      <td>1</td>\n",
       "      <td>1</td>\n",
       "      <td>False</td>\n",
       "      <td>0.470</td>\n",
       "      <td>...</td>\n",
       "      <td>117.906</td>\n",
       "      <td>210133</td>\n",
       "      <td>4.0</td>\n",
       "      <td>1999</td>\n",
       "      <td>1999-11-02</td>\n",
       "      <td>66.0</td>\n",
       "      <td>album</td>\n",
       "      <td>2d0hyoQ5ynDBnkvAbJKORj</td>\n",
       "      <td>['alternative metal', 'alternative rock', 'con...</td>\n",
       "      <td>metal</td>\n",
       "    </tr>\n",
       "    <tr>\n",
       "      <th>1</th>\n",
       "      <td>1wsRitfRRtWyEapl0q22o8</td>\n",
       "      <td>Guerrilla Radio</td>\n",
       "      <td>The Battle Of Los Angeles</td>\n",
       "      <td>2eia0myWFgoHuttJytCxgX</td>\n",
       "      <td>['Rage Against The Machine']</td>\n",
       "      <td>['2d0hyoQ5ynDBnkvAbJKORj']</td>\n",
       "      <td>2</td>\n",
       "      <td>1</td>\n",
       "      <td>True</td>\n",
       "      <td>0.599</td>\n",
       "      <td>...</td>\n",
       "      <td>103.680</td>\n",
       "      <td>206200</td>\n",
       "      <td>4.0</td>\n",
       "      <td>1999</td>\n",
       "      <td>1999-11-02</td>\n",
       "      <td>71.0</td>\n",
       "      <td>album</td>\n",
       "      <td>2d0hyoQ5ynDBnkvAbJKORj</td>\n",
       "      <td>['alternative metal', 'alternative rock', 'con...</td>\n",
       "      <td>metal</td>\n",
       "    </tr>\n",
       "    <tr>\n",
       "      <th>2</th>\n",
       "      <td>1hR0fIFK2qRG3f3RF70pb7</td>\n",
       "      <td>Calm Like a Bomb</td>\n",
       "      <td>The Battle Of Los Angeles</td>\n",
       "      <td>2eia0myWFgoHuttJytCxgX</td>\n",
       "      <td>['Rage Against The Machine']</td>\n",
       "      <td>['2d0hyoQ5ynDBnkvAbJKORj']</td>\n",
       "      <td>3</td>\n",
       "      <td>1</td>\n",
       "      <td>False</td>\n",
       "      <td>0.315</td>\n",
       "      <td>...</td>\n",
       "      <td>149.749</td>\n",
       "      <td>298893</td>\n",
       "      <td>4.0</td>\n",
       "      <td>1999</td>\n",
       "      <td>1999-11-02</td>\n",
       "      <td>57.0</td>\n",
       "      <td>album</td>\n",
       "      <td>2d0hyoQ5ynDBnkvAbJKORj</td>\n",
       "      <td>['alternative metal', 'alternative rock', 'con...</td>\n",
       "      <td>metal</td>\n",
       "    </tr>\n",
       "    <tr>\n",
       "      <th>3</th>\n",
       "      <td>2lbASgTSoDO7MTuLAXlTW0</td>\n",
       "      <td>Mic Check</td>\n",
       "      <td>The Battle Of Los Angeles</td>\n",
       "      <td>2eia0myWFgoHuttJytCxgX</td>\n",
       "      <td>['Rage Against The Machine']</td>\n",
       "      <td>['2d0hyoQ5ynDBnkvAbJKORj']</td>\n",
       "      <td>4</td>\n",
       "      <td>1</td>\n",
       "      <td>True</td>\n",
       "      <td>0.440</td>\n",
       "      <td>...</td>\n",
       "      <td>96.752</td>\n",
       "      <td>213640</td>\n",
       "      <td>4.0</td>\n",
       "      <td>1999</td>\n",
       "      <td>1999-11-02</td>\n",
       "      <td>51.0</td>\n",
       "      <td>album</td>\n",
       "      <td>2d0hyoQ5ynDBnkvAbJKORj</td>\n",
       "      <td>['alternative metal', 'alternative rock', 'con...</td>\n",
       "      <td>metal</td>\n",
       "    </tr>\n",
       "    <tr>\n",
       "      <th>4</th>\n",
       "      <td>1MQTmpYOZ6fcMQc56Hdo7T</td>\n",
       "      <td>Sleep Now In the Fire</td>\n",
       "      <td>The Battle Of Los Angeles</td>\n",
       "      <td>2eia0myWFgoHuttJytCxgX</td>\n",
       "      <td>['Rage Against The Machine']</td>\n",
       "      <td>['2d0hyoQ5ynDBnkvAbJKORj']</td>\n",
       "      <td>5</td>\n",
       "      <td>1</td>\n",
       "      <td>False</td>\n",
       "      <td>0.426</td>\n",
       "      <td>...</td>\n",
       "      <td>127.059</td>\n",
       "      <td>205600</td>\n",
       "      <td>4.0</td>\n",
       "      <td>1999</td>\n",
       "      <td>1999-11-02</td>\n",
       "      <td>68.0</td>\n",
       "      <td>album</td>\n",
       "      <td>2d0hyoQ5ynDBnkvAbJKORj</td>\n",
       "      <td>['alternative metal', 'alternative rock', 'con...</td>\n",
       "      <td>metal</td>\n",
       "    </tr>\n",
       "    <tr>\n",
       "      <th>...</th>\n",
       "      <td>...</td>\n",
       "      <td>...</td>\n",
       "      <td>...</td>\n",
       "      <td>...</td>\n",
       "      <td>...</td>\n",
       "      <td>...</td>\n",
       "      <td>...</td>\n",
       "      <td>...</td>\n",
       "      <td>...</td>\n",
       "      <td>...</td>\n",
       "      <td>...</td>\n",
       "      <td>...</td>\n",
       "      <td>...</td>\n",
       "      <td>...</td>\n",
       "      <td>...</td>\n",
       "      <td>...</td>\n",
       "      <td>...</td>\n",
       "      <td>...</td>\n",
       "      <td>...</td>\n",
       "      <td>...</td>\n",
       "      <td>...</td>\n",
       "    </tr>\n",
       "    <tr>\n",
       "      <th>756677</th>\n",
       "      <td>4pqH5feu3uNB73ad9xEU9B</td>\n",
       "      <td>Winter Time</td>\n",
       "      <td>Christmas Blues</td>\n",
       "      <td>1wYxighrXciRyM6KjF5Gv2</td>\n",
       "      <td>['Sabrina Claudio', 'Alicia Keys']</td>\n",
       "      <td>['30DhU7BDmF4PH0JVhu8ZRg', '3DiDSECUqqY1AuBP8q...</td>\n",
       "      <td>5</td>\n",
       "      <td>1</td>\n",
       "      <td>False</td>\n",
       "      <td>0.579</td>\n",
       "      <td>...</td>\n",
       "      <td>132.255</td>\n",
       "      <td>182312</td>\n",
       "      <td>4.0</td>\n",
       "      <td>2020</td>\n",
       "      <td>2020-11-27</td>\n",
       "      <td>45.0</td>\n",
       "      <td>album</td>\n",
       "      <td>30DhU7BDmF4PH0JVhu8ZRg</td>\n",
       "      <td>['alternative r&amp;b', 'chill r&amp;b', 'pop', 'r&amp;b']</td>\n",
       "      <td>alternative r&amp;b</td>\n",
       "    </tr>\n",
       "    <tr>\n",
       "      <th>756678</th>\n",
       "      <td>4sxkBkYQKxMXfwynEConNR</td>\n",
       "      <td>Have Yourself A Merry Little Christmas</td>\n",
       "      <td>Christmas Blues</td>\n",
       "      <td>1wYxighrXciRyM6KjF5Gv2</td>\n",
       "      <td>['Sabrina Claudio']</td>\n",
       "      <td>['30DhU7BDmF4PH0JVhu8ZRg']</td>\n",
       "      <td>6</td>\n",
       "      <td>1</td>\n",
       "      <td>False</td>\n",
       "      <td>0.440</td>\n",
       "      <td>...</td>\n",
       "      <td>122.256</td>\n",
       "      <td>234478</td>\n",
       "      <td>4.0</td>\n",
       "      <td>2020</td>\n",
       "      <td>2020-11-27</td>\n",
       "      <td>40.0</td>\n",
       "      <td>album</td>\n",
       "      <td>30DhU7BDmF4PH0JVhu8ZRg</td>\n",
       "      <td>['alternative r&amp;b', 'chill r&amp;b', 'pop', 'r&amp;b']</td>\n",
       "      <td>alternative r&amp;b</td>\n",
       "    </tr>\n",
       "    <tr>\n",
       "      <th>756679</th>\n",
       "      <td>0984kdcFfmBkZv8M9x4wcb</td>\n",
       "      <td>Short Red Silk Lingerie</td>\n",
       "      <td>Christmas Blues</td>\n",
       "      <td>1wYxighrXciRyM6KjF5Gv2</td>\n",
       "      <td>['Sabrina Claudio']</td>\n",
       "      <td>['30DhU7BDmF4PH0JVhu8ZRg']</td>\n",
       "      <td>7</td>\n",
       "      <td>1</td>\n",
       "      <td>False</td>\n",
       "      <td>0.592</td>\n",
       "      <td>...</td>\n",
       "      <td>88.997</td>\n",
       "      <td>204591</td>\n",
       "      <td>3.0</td>\n",
       "      <td>2020</td>\n",
       "      <td>2020-11-27</td>\n",
       "      <td>43.0</td>\n",
       "      <td>album</td>\n",
       "      <td>30DhU7BDmF4PH0JVhu8ZRg</td>\n",
       "      <td>['alternative r&amp;b', 'chill r&amp;b', 'pop', 'r&amp;b']</td>\n",
       "      <td>alternative r&amp;b</td>\n",
       "    </tr>\n",
       "    <tr>\n",
       "      <th>756680</th>\n",
       "      <td>5z7PRDOZGxMZqEIzNWKYjT</td>\n",
       "      <td>Warm December</td>\n",
       "      <td>Christmas Blues</td>\n",
       "      <td>1wYxighrXciRyM6KjF5Gv2</td>\n",
       "      <td>['Sabrina Claudio']</td>\n",
       "      <td>['30DhU7BDmF4PH0JVhu8ZRg']</td>\n",
       "      <td>8</td>\n",
       "      <td>1</td>\n",
       "      <td>False</td>\n",
       "      <td>0.329</td>\n",
       "      <td>...</td>\n",
       "      <td>134.259</td>\n",
       "      <td>195669</td>\n",
       "      <td>4.0</td>\n",
       "      <td>2020</td>\n",
       "      <td>2020-11-27</td>\n",
       "      <td>46.0</td>\n",
       "      <td>album</td>\n",
       "      <td>30DhU7BDmF4PH0JVhu8ZRg</td>\n",
       "      <td>['alternative r&amp;b', 'chill r&amp;b', 'pop', 'r&amp;b']</td>\n",
       "      <td>alternative r&amp;b</td>\n",
       "    </tr>\n",
       "    <tr>\n",
       "      <th>756681</th>\n",
       "      <td>2Iv6YBslkxslMJQsxshZh5</td>\n",
       "      <td>CANTARES DE NAVIDAD</td>\n",
       "      <td>EL ÚLTIMO TOUR DEL MUNDO</td>\n",
       "      <td>2d9BCZeAAhiZWPpbX9aPCW</td>\n",
       "      <td>['Trio Vegabajeño']</td>\n",
       "      <td>['5TphiK6LsT4X5NOZxq3NJB']</td>\n",
       "      <td>16</td>\n",
       "      <td>1</td>\n",
       "      <td>False</td>\n",
       "      <td>0.764</td>\n",
       "      <td>...</td>\n",
       "      <td>118.671</td>\n",
       "      <td>199720</td>\n",
       "      <td>4.0</td>\n",
       "      <td>2020</td>\n",
       "      <td>2020-11-27</td>\n",
       "      <td>62.0</td>\n",
       "      <td>album</td>\n",
       "      <td>5TphiK6LsT4X5NOZxq3NJB</td>\n",
       "      <td>['musica jibara', 'puerto rican folk']</td>\n",
       "      <td>unknown</td>\n",
       "    </tr>\n",
       "  </tbody>\n",
       "</table>\n",
       "<p>756682 rows × 29 columns</p>\n",
       "</div>"
      ],
      "text/plain": [
       "                            id                                    name  \\\n",
       "0       7lmeHLHBe4nmXzuXc0HDjk                                 Testify   \n",
       "1       1wsRitfRRtWyEapl0q22o8                         Guerrilla Radio   \n",
       "2       1hR0fIFK2qRG3f3RF70pb7                        Calm Like a Bomb   \n",
       "3       2lbASgTSoDO7MTuLAXlTW0                               Mic Check   \n",
       "4       1MQTmpYOZ6fcMQc56Hdo7T                   Sleep Now In the Fire   \n",
       "...                        ...                                     ...   \n",
       "756677  4pqH5feu3uNB73ad9xEU9B                             Winter Time   \n",
       "756678  4sxkBkYQKxMXfwynEConNR  Have Yourself A Merry Little Christmas   \n",
       "756679  0984kdcFfmBkZv8M9x4wcb                 Short Red Silk Lingerie   \n",
       "756680  5z7PRDOZGxMZqEIzNWKYjT                           Warm December   \n",
       "756681  2Iv6YBslkxslMJQsxshZh5                     CANTARES DE NAVIDAD   \n",
       "\n",
       "                            album                album_id  \\\n",
       "0       The Battle Of Los Angeles  2eia0myWFgoHuttJytCxgX   \n",
       "1       The Battle Of Los Angeles  2eia0myWFgoHuttJytCxgX   \n",
       "2       The Battle Of Los Angeles  2eia0myWFgoHuttJytCxgX   \n",
       "3       The Battle Of Los Angeles  2eia0myWFgoHuttJytCxgX   \n",
       "4       The Battle Of Los Angeles  2eia0myWFgoHuttJytCxgX   \n",
       "...                           ...                     ...   \n",
       "756677            Christmas Blues  1wYxighrXciRyM6KjF5Gv2   \n",
       "756678            Christmas Blues  1wYxighrXciRyM6KjF5Gv2   \n",
       "756679            Christmas Blues  1wYxighrXciRyM6KjF5Gv2   \n",
       "756680            Christmas Blues  1wYxighrXciRyM6KjF5Gv2   \n",
       "756681   EL ÚLTIMO TOUR DEL MUNDO  2d9BCZeAAhiZWPpbX9aPCW   \n",
       "\n",
       "                                   artists  \\\n",
       "0             ['Rage Against The Machine']   \n",
       "1             ['Rage Against The Machine']   \n",
       "2             ['Rage Against The Machine']   \n",
       "3             ['Rage Against The Machine']   \n",
       "4             ['Rage Against The Machine']   \n",
       "...                                    ...   \n",
       "756677  ['Sabrina Claudio', 'Alicia Keys']   \n",
       "756678                 ['Sabrina Claudio']   \n",
       "756679                 ['Sabrina Claudio']   \n",
       "756680                 ['Sabrina Claudio']   \n",
       "756681                 ['Trio Vegabajeño']   \n",
       "\n",
       "                                               artist_ids  track_number  \\\n",
       "0                              ['2d0hyoQ5ynDBnkvAbJKORj']             1   \n",
       "1                              ['2d0hyoQ5ynDBnkvAbJKORj']             2   \n",
       "2                              ['2d0hyoQ5ynDBnkvAbJKORj']             3   \n",
       "3                              ['2d0hyoQ5ynDBnkvAbJKORj']             4   \n",
       "4                              ['2d0hyoQ5ynDBnkvAbJKORj']             5   \n",
       "...                                                   ...           ...   \n",
       "756677  ['30DhU7BDmF4PH0JVhu8ZRg', '3DiDSECUqqY1AuBP8q...             5   \n",
       "756678                         ['30DhU7BDmF4PH0JVhu8ZRg']             6   \n",
       "756679                         ['30DhU7BDmF4PH0JVhu8ZRg']             7   \n",
       "756680                         ['30DhU7BDmF4PH0JVhu8ZRg']             8   \n",
       "756681                         ['5TphiK6LsT4X5NOZxq3NJB']            16   \n",
       "\n",
       "        disc_number  explicit  danceability  ...    tempo  duration_ms  \\\n",
       "0                 1     False         0.470  ...  117.906       210133   \n",
       "1                 1      True         0.599  ...  103.680       206200   \n",
       "2                 1     False         0.315  ...  149.749       298893   \n",
       "3                 1      True         0.440  ...   96.752       213640   \n",
       "4                 1     False         0.426  ...  127.059       205600   \n",
       "...             ...       ...           ...  ...      ...          ...   \n",
       "756677            1     False         0.579  ...  132.255       182312   \n",
       "756678            1     False         0.440  ...  122.256       234478   \n",
       "756679            1     False         0.592  ...   88.997       204591   \n",
       "756680            1     False         0.329  ...  134.259       195669   \n",
       "756681            1     False         0.764  ...  118.671       199720   \n",
       "\n",
       "        time_signature  year  release_date  popularity  album_type  \\\n",
       "0                  4.0  1999    1999-11-02        66.0       album   \n",
       "1                  4.0  1999    1999-11-02        71.0       album   \n",
       "2                  4.0  1999    1999-11-02        57.0       album   \n",
       "3                  4.0  1999    1999-11-02        51.0       album   \n",
       "4                  4.0  1999    1999-11-02        68.0       album   \n",
       "...                ...   ...           ...         ...         ...   \n",
       "756677             4.0  2020    2020-11-27        45.0       album   \n",
       "756678             4.0  2020    2020-11-27        40.0       album   \n",
       "756679             3.0  2020    2020-11-27        43.0       album   \n",
       "756680             4.0  2020    2020-11-27        46.0       album   \n",
       "756681             4.0  2020    2020-11-27        62.0       album   \n",
       "\n",
       "                main_artist_id  \\\n",
       "0       2d0hyoQ5ynDBnkvAbJKORj   \n",
       "1       2d0hyoQ5ynDBnkvAbJKORj   \n",
       "2       2d0hyoQ5ynDBnkvAbJKORj   \n",
       "3       2d0hyoQ5ynDBnkvAbJKORj   \n",
       "4       2d0hyoQ5ynDBnkvAbJKORj   \n",
       "...                        ...   \n",
       "756677  30DhU7BDmF4PH0JVhu8ZRg   \n",
       "756678  30DhU7BDmF4PH0JVhu8ZRg   \n",
       "756679  30DhU7BDmF4PH0JVhu8ZRg   \n",
       "756680  30DhU7BDmF4PH0JVhu8ZRg   \n",
       "756681  5TphiK6LsT4X5NOZxq3NJB   \n",
       "\n",
       "                                                   genres        metagenre  \n",
       "0       ['alternative metal', 'alternative rock', 'con...            metal  \n",
       "1       ['alternative metal', 'alternative rock', 'con...            metal  \n",
       "2       ['alternative metal', 'alternative rock', 'con...            metal  \n",
       "3       ['alternative metal', 'alternative rock', 'con...            metal  \n",
       "4       ['alternative metal', 'alternative rock', 'con...            metal  \n",
       "...                                                   ...              ...  \n",
       "756677     ['alternative r&b', 'chill r&b', 'pop', 'r&b']  alternative r&b  \n",
       "756678     ['alternative r&b', 'chill r&b', 'pop', 'r&b']  alternative r&b  \n",
       "756679     ['alternative r&b', 'chill r&b', 'pop', 'r&b']  alternative r&b  \n",
       "756680     ['alternative r&b', 'chill r&b', 'pop', 'r&b']  alternative r&b  \n",
       "756681             ['musica jibara', 'puerto rican folk']          unknown  \n",
       "\n",
       "[756682 rows x 29 columns]"
      ]
     },
     "execution_count": 197,
     "metadata": {},
     "output_type": "execute_result"
    }
   ],
   "source": [
    "tracks"
   ]
  },
  {
   "cell_type": "raw",
   "id": "e1220c8b-0a2e-4466-a169-37380a3dc76a",
   "metadata": {},
   "source": [
    "plt.scatter(data_mat[:,16] / np.std(data_mat[:,16]), data_mat[:, 1] / np.std(data_mat[:,1]), alpha= 0.2, s=0.6)"
   ]
  },
  {
   "cell_type": "code",
   "execution_count": 198,
   "id": "f4f1f0eb-470f-49a2-899f-a40c09f51168",
   "metadata": {},
   "outputs": [
    {
     "data": {
      "text/plain": [
       "<AxesSubplot:>"
      ]
     },
     "execution_count": 198,
     "metadata": {},
     "output_type": "execute_result"
    },
    {
     "data": {
      "image/png": "[encoded data removed]",
      "text/plain": [
       "<Figure size 1152x432 with 2 Axes>"
      ]
     },
     "metadata": {
      "needs_background": "light"
     },
     "output_type": "display_data"
    }
   ],
   "source": [
    "plt.figure(figsize=(16, 6))\n",
    "sns.heatmap(tracks_relevant.corr(), annot=True)"
   ]
  },
  {
   "cell_type": "raw",
   "id": "277b9cb7-3f10-4687-b848-511f3a2b16c5",
   "metadata": {},
   "source": [
    "tracks['is_popular'] = tracks['popularity'] > 20"
   ]
  },
  {
   "cell_type": "raw",
   "id": "72cd5f9e-0da4-4c57-af41-9c2c359fde3f",
   "metadata": {},
   "source": [
    "import seaborn as sns\n",
    "sns.pairplot(tracks.sample(10000), vars=['key', 'energy', 'year', 'duration_ms', 'danceability', 'loudness'], diag_kind='kde', hue='is_popular', diag_kws={\"common_norm\":False})"
   ]
  },
  {
   "cell_type": "code",
   "execution_count": 248,
   "id": "21853355-6c9a-4edc-90a7-f676bbbc6c6a",
   "metadata": {},
   "outputs": [],
   "source": [
    "from sklearn.linear_model import LogisticRegression\n",
    "from sklearn.preprocessing import StandardScaler\n",
    "from sklearn.pipeline import make_pipeline\n",
    "from sklearn.model_selection import train_test_split, GridSearchCV\n",
    "from sklearn.metrics import roc_curve, auc, roc_auc_score, accuracy_score, confusion_matrix"
   ]
  },
  {
   "cell_type": "code",
   "execution_count": 249,
   "id": "2ac9f416-59d6-4f49-aead-b79c25fccd14",
   "metadata": {},
   "outputs": [],
   "source": [
    "n_features = tracks_relevant.values.shape[1] - 1\n",
    "\n",
    "X = tracks_relevant.values[:, :n_features]\n",
    "y = tracks_relevant.values[:, n_features]"
   ]
  },
  {
   "cell_type": "code",
   "execution_count": 250,
   "id": "34da3a6f-6a08-4e68-b65a-964e4f9a5067",
   "metadata": {},
   "outputs": [
    {
     "data": {
      "text/plain": [
       "4.0"
      ]
     },
     "execution_count": 250,
     "metadata": {},
     "output_type": "execute_result"
    }
   ],
   "source": [
    "np.quantile(y, 0.5)"
   ]
  },
  {
   "cell_type": "code",
   "execution_count": 251,
   "id": "b8d3866e-ee2c-42d8-a48f-02e164bb9bdf",
   "metadata": {},
   "outputs": [],
   "source": [
    "y = np.where(y > np.quantile(y, 0.5), 1, 0)"
   ]
  },
  {
   "cell_type": "code",
   "execution_count": 252,
   "id": "08997776-b0e4-41cd-ac13-9e1341f2a3c6",
   "metadata": {},
   "outputs": [
    {
     "data": {
      "text/plain": [
       "array([1, 1, 1, ..., 1, 1, 1])"
      ]
     },
     "execution_count": 252,
     "metadata": {},
     "output_type": "execute_result"
    }
   ],
   "source": [
    "y"
   ]
  },
  {
   "cell_type": "code",
   "execution_count": 253,
   "id": "411c1a4e-149f-4911-b095-daa1436851d6",
   "metadata": {},
   "outputs": [],
   "source": [
    "X_train, X_test, y_train, y_test = train_test_split(X, y, train_size=0.8)\n",
    "pipe = make_pipeline(StandardScaler(), GridSearchCV(\n",
    "    LogisticRegression(),\n",
    "    param_grid={\n",
    "        'penalty': ['l2'],\n",
    "        'class_weight': ['balanced'],\n",
    "        # 'l1_ratio': [0.5],\n",
    "        # 'solver': ['saga'],\n",
    "        'C': np.logspace(-3, 3, 5)\n",
    "    },\n",
    "    cv=5,\n",
    "    refit=True)\n",
    ")"
   ]
  },
  {
   "cell_type": "code",
   "execution_count": 254,
   "id": "a636c7ad-996c-459f-8837-50ca79ec9f23",
   "metadata": {},
   "outputs": [
    {
     "data": {
      "text/plain": [
       "dict_keys(['C', 'class_weight', 'dual', 'fit_intercept', 'intercept_scaling', 'l1_ratio', 'max_iter', 'multi_class', 'n_jobs', 'penalty', 'random_state', 'solver', 'tol', 'verbose', 'warm_start'])"
      ]
     },
     "execution_count": 254,
     "metadata": {},
     "output_type": "execute_result"
    }
   ],
   "source": [
    "LogisticRegression().get_params().keys()"
   ]
  },
  {
   "cell_type": "code",
   "execution_count": 255,
   "id": "941192b1-0911-4a1c-bb6b-8dcc7f94a578",
   "metadata": {},
   "outputs": [
    {
     "data": {
      "text/plain": [
       "(array([0, 1]), array([311312, 294033]))"
      ]
     },
     "execution_count": 255,
     "metadata": {},
     "output_type": "execute_result"
    }
   ],
   "source": [
    "np.unique(y_train, return_counts=True)"
   ]
  },
  {
   "cell_type": "code",
   "execution_count": 256,
   "id": "86d3809e-2c91-4c8f-9aa2-130df9aaec97",
   "metadata": {},
   "outputs": [
    {
     "data": {
      "text/plain": [
       "Pipeline(steps=[('standardscaler', StandardScaler()),\n",
       "                ('gridsearchcv',\n",
       "                 GridSearchCV(cv=5, estimator=LogisticRegression(),\n",
       "                              param_grid={'C': array([1.00000000e-03, 3.16227766e-02, 1.00000000e+00, 3.16227766e+01,\n",
       "       1.00000000e+03]),\n",
       "                                          'class_weight': ['balanced'],\n",
       "                                          'penalty': ['l2']}))])"
      ]
     },
     "execution_count": 256,
     "metadata": {},
     "output_type": "execute_result"
    }
   ],
   "source": [
    "pipe.fit(X_train, y_train)"
   ]
  },
  {
   "cell_type": "code",
   "execution_count": 257,
   "id": "da194897-fba6-4beb-9e56-b34261600b2d",
   "metadata": {},
   "outputs": [],
   "source": [
    "w = pipe.steps[1][1].best_estimator_.coef_"
   ]
  },
  {
   "cell_type": "code",
   "execution_count": 258,
   "id": "8f3a8f94-ac15-45df-b437-0808e000bcc6",
   "metadata": {},
   "outputs": [
    {
     "data": {
      "text/plain": [
       "array([[41487, 36337],\n",
       "       [20437, 53076]])"
      ]
     },
     "execution_count": 258,
     "metadata": {},
     "output_type": "execute_result"
    }
   ],
   "source": [
    "predictions = pipe.predict(X_test)\n",
    "confusion_matrix(y_test, predictions)"
   ]
  },
  {
   "cell_type": "code",
   "execution_count": 259,
   "id": "6169de4d-5bc2-4047-9b03-a985934672dd",
   "metadata": {},
   "outputs": [
    {
     "data": {
      "text/html": [
       "<div>\n",
       "<style scoped>\n",
       "    .dataframe tbody tr th:only-of-type {\n",
       "        vertical-align: middle;\n",
       "    }\n",
       "\n",
       "    .dataframe tbody tr th {\n",
       "        vertical-align: top;\n",
       "    }\n",
       "\n",
       "    .dataframe thead th {\n",
       "        text-align: right;\n",
       "    }\n",
       "</style>\n",
       "<table border=\"1\" class=\"dataframe\">\n",
       "  <thead>\n",
       "    <tr style=\"text-align: right;\">\n",
       "      <th></th>\n",
       "      <th>mean_fit_time</th>\n",
       "      <th>std_fit_time</th>\n",
       "      <th>mean_score_time</th>\n",
       "      <th>std_score_time</th>\n",
       "      <th>param_C</th>\n",
       "      <th>param_class_weight</th>\n",
       "      <th>param_penalty</th>\n",
       "      <th>params</th>\n",
       "      <th>split0_test_score</th>\n",
       "      <th>split1_test_score</th>\n",
       "      <th>split2_test_score</th>\n",
       "      <th>split3_test_score</th>\n",
       "      <th>split4_test_score</th>\n",
       "      <th>mean_test_score</th>\n",
       "      <th>std_test_score</th>\n",
       "      <th>rank_test_score</th>\n",
       "    </tr>\n",
       "  </thead>\n",
       "  <tbody>\n",
       "    <tr>\n",
       "      <th>1</th>\n",
       "      <td>0.466323</td>\n",
       "      <td>0.011147</td>\n",
       "      <td>0.009347</td>\n",
       "      <td>0.001623</td>\n",
       "      <td>0.031623</td>\n",
       "      <td>balanced</td>\n",
       "      <td>l2</td>\n",
       "      <td>{'C': 0.03162277660168379, 'class_weight': 'ba...</td>\n",
       "      <td>0.628683</td>\n",
       "      <td>0.626626</td>\n",
       "      <td>0.626477</td>\n",
       "      <td>0.625098</td>\n",
       "      <td>0.626354</td>\n",
       "      <td>0.626648</td>\n",
       "      <td>0.001154</td>\n",
       "      <td>1</td>\n",
       "    </tr>\n",
       "    <tr>\n",
       "      <th>2</th>\n",
       "      <td>0.462547</td>\n",
       "      <td>0.008933</td>\n",
       "      <td>0.008526</td>\n",
       "      <td>0.000405</td>\n",
       "      <td>1.0</td>\n",
       "      <td>balanced</td>\n",
       "      <td>l2</td>\n",
       "      <td>{'C': 1.0, 'class_weight': 'balanced', 'penalt...</td>\n",
       "      <td>0.628699</td>\n",
       "      <td>0.626634</td>\n",
       "      <td>0.626461</td>\n",
       "      <td>0.625098</td>\n",
       "      <td>0.626304</td>\n",
       "      <td>0.626639</td>\n",
       "      <td>0.001163</td>\n",
       "      <td>2</td>\n",
       "    </tr>\n",
       "    <tr>\n",
       "      <th>3</th>\n",
       "      <td>0.458838</td>\n",
       "      <td>0.031999</td>\n",
       "      <td>0.008551</td>\n",
       "      <td>0.000510</td>\n",
       "      <td>31.622777</td>\n",
       "      <td>balanced</td>\n",
       "      <td>l2</td>\n",
       "      <td>{'C': 31.622776601683793, 'class_weight': 'bal...</td>\n",
       "      <td>0.628699</td>\n",
       "      <td>0.626634</td>\n",
       "      <td>0.626453</td>\n",
       "      <td>0.625106</td>\n",
       "      <td>0.626296</td>\n",
       "      <td>0.626638</td>\n",
       "      <td>0.001162</td>\n",
       "      <td>3</td>\n",
       "    </tr>\n",
       "    <tr>\n",
       "      <th>4</th>\n",
       "      <td>0.437790</td>\n",
       "      <td>0.006175</td>\n",
       "      <td>0.008176</td>\n",
       "      <td>0.000249</td>\n",
       "      <td>1000.0</td>\n",
       "      <td>balanced</td>\n",
       "      <td>l2</td>\n",
       "      <td>{'C': 1000.0, 'class_weight': 'balanced', 'pen...</td>\n",
       "      <td>0.628699</td>\n",
       "      <td>0.626634</td>\n",
       "      <td>0.626453</td>\n",
       "      <td>0.625106</td>\n",
       "      <td>0.626296</td>\n",
       "      <td>0.626638</td>\n",
       "      <td>0.001162</td>\n",
       "      <td>3</td>\n",
       "    </tr>\n",
       "    <tr>\n",
       "      <th>0</th>\n",
       "      <td>0.490259</td>\n",
       "      <td>0.031857</td>\n",
       "      <td>0.011426</td>\n",
       "      <td>0.002924</td>\n",
       "      <td>0.001</td>\n",
       "      <td>balanced</td>\n",
       "      <td>l2</td>\n",
       "      <td>{'C': 0.001, 'class_weight': 'balanced', 'pena...</td>\n",
       "      <td>0.628443</td>\n",
       "      <td>0.626643</td>\n",
       "      <td>0.626411</td>\n",
       "      <td>0.625181</td>\n",
       "      <td>0.626403</td>\n",
       "      <td>0.626616</td>\n",
       "      <td>0.001048</td>\n",
       "      <td>5</td>\n",
       "    </tr>\n",
       "  </tbody>\n",
       "</table>\n",
       "</div>"
      ],
      "text/plain": [
       "   mean_fit_time  std_fit_time  mean_score_time  std_score_time    param_C  \\\n",
       "1       0.466323      0.011147         0.009347        0.001623   0.031623   \n",
       "2       0.462547      0.008933         0.008526        0.000405        1.0   \n",
       "3       0.458838      0.031999         0.008551        0.000510  31.622777   \n",
       "4       0.437790      0.006175         0.008176        0.000249     1000.0   \n",
       "0       0.490259      0.031857         0.011426        0.002924      0.001   \n",
       "\n",
       "  param_class_weight param_penalty  \\\n",
       "1           balanced            l2   \n",
       "2           balanced            l2   \n",
       "3           balanced            l2   \n",
       "4           balanced            l2   \n",
       "0           balanced            l2   \n",
       "\n",
       "                                              params  split0_test_score  \\\n",
       "1  {'C': 0.03162277660168379, 'class_weight': 'ba...           0.628683   \n",
       "2  {'C': 1.0, 'class_weight': 'balanced', 'penalt...           0.628699   \n",
       "3  {'C': 31.622776601683793, 'class_weight': 'bal...           0.628699   \n",
       "4  {'C': 1000.0, 'class_weight': 'balanced', 'pen...           0.628699   \n",
       "0  {'C': 0.001, 'class_weight': 'balanced', 'pena...           0.628443   \n",
       "\n",
       "   split1_test_score  split2_test_score  split3_test_score  split4_test_score  \\\n",
       "1           0.626626           0.626477           0.625098           0.626354   \n",
       "2           0.626634           0.626461           0.625098           0.626304   \n",
       "3           0.626634           0.626453           0.625106           0.626296   \n",
       "4           0.626634           0.626453           0.625106           0.626296   \n",
       "0           0.626643           0.626411           0.625181           0.626403   \n",
       "\n",
       "   mean_test_score  std_test_score  rank_test_score  \n",
       "1         0.626648        0.001154                1  \n",
       "2         0.626639        0.001163                2  \n",
       "3         0.626638        0.001162                3  \n",
       "4         0.626638        0.001162                3  \n",
       "0         0.626616        0.001048                5  "
      ]
     },
     "execution_count": 259,
     "metadata": {},
     "output_type": "execute_result"
    }
   ],
   "source": [
    "pd.DataFrame(pipe.steps[1][1].cv_results_).sort_values(by='rank_test_score')"
   ]
  },
  {
   "cell_type": "code",
   "execution_count": 260,
   "id": "5ee82db8-5fbb-47d3-90e2-73adf813ae61",
   "metadata": {},
   "outputs": [
    {
     "data": {
      "text/plain": [
       "0.6248504992169793"
      ]
     },
     "execution_count": 260,
     "metadata": {},
     "output_type": "execute_result"
    }
   ],
   "source": [
    "accuracy_score(pipe.predict(X_test), y_test)"
   ]
  },
  {
   "cell_type": "code",
   "execution_count": 261,
   "id": "30f5175a-53da-49ee-83e2-3dbabb369c20",
   "metadata": {},
   "outputs": [
    {
     "data": {
      "text/plain": [
       "array([[ 0.20758187, -0.1161373 , -0.00814974,  0.49700588, -0.043844  ,\n",
       "        -0.03210171, -0.21058339, -0.14180538,  0.00803268, -0.16668715,\n",
       "         0.03784481, -0.04621815]])"
      ]
     },
     "execution_count": 261,
     "metadata": {},
     "output_type": "execute_result"
    }
   ],
   "source": [
    "w"
   ]
  },
  {
   "cell_type": "code",
   "execution_count": 273,
   "id": "64f2a0ea-27ea-4cbe-a113-0e213f635765",
   "metadata": {},
   "outputs": [
    {
     "data": {
      "text/html": [
       "<div>\n",
       "<style scoped>\n",
       "    .dataframe tbody tr th:only-of-type {\n",
       "        vertical-align: middle;\n",
       "    }\n",
       "\n",
       "    .dataframe tbody tr th {\n",
       "        vertical-align: top;\n",
       "    }\n",
       "\n",
       "    .dataframe thead th {\n",
       "        text-align: right;\n",
       "    }\n",
       "</style>\n",
       "<table border=\"1\" class=\"dataframe\">\n",
       "  <thead>\n",
       "    <tr style=\"text-align: right;\">\n",
       "      <th></th>\n",
       "      <th>Coefficients</th>\n",
       "    </tr>\n",
       "  </thead>\n",
       "  <tbody>\n",
       "    <tr>\n",
       "      <th>danceability</th>\n",
       "      <td>0.207582</td>\n",
       "    </tr>\n",
       "    <tr>\n",
       "      <th>energy</th>\n",
       "      <td>-0.116137</td>\n",
       "    </tr>\n",
       "    <tr>\n",
       "      <th>key</th>\n",
       "      <td>-0.008150</td>\n",
       "    </tr>\n",
       "    <tr>\n",
       "      <th>loudness</th>\n",
       "      <td>0.497006</td>\n",
       "    </tr>\n",
       "    <tr>\n",
       "      <th>mode</th>\n",
       "      <td>-0.043844</td>\n",
       "    </tr>\n",
       "    <tr>\n",
       "      <th>speechiness</th>\n",
       "      <td>-0.032102</td>\n",
       "    </tr>\n",
       "    <tr>\n",
       "      <th>acousticness</th>\n",
       "      <td>-0.210583</td>\n",
       "    </tr>\n",
       "    <tr>\n",
       "      <th>instrumentalness</th>\n",
       "      <td>-0.141805</td>\n",
       "    </tr>\n",
       "    <tr>\n",
       "      <th>liveness</th>\n",
       "      <td>0.008033</td>\n",
       "    </tr>\n",
       "    <tr>\n",
       "      <th>valence</th>\n",
       "      <td>-0.166687</td>\n",
       "    </tr>\n",
       "    <tr>\n",
       "      <th>tempo</th>\n",
       "      <td>0.037845</td>\n",
       "    </tr>\n",
       "    <tr>\n",
       "      <th>duration_ms</th>\n",
       "      <td>-0.046218</td>\n",
       "    </tr>\n",
       "  </tbody>\n",
       "</table>\n",
       "</div>"
      ],
      "text/plain": [
       "                  Coefficients\n",
       "danceability          0.207582\n",
       "energy               -0.116137\n",
       "key                  -0.008150\n",
       "loudness              0.497006\n",
       "mode                 -0.043844\n",
       "speechiness          -0.032102\n",
       "acousticness         -0.210583\n",
       "instrumentalness     -0.141805\n",
       "liveness              0.008033\n",
       "valence              -0.166687\n",
       "tempo                 0.037845\n",
       "duration_ms          -0.046218"
      ]
     },
     "execution_count": 273,
     "metadata": {},
     "output_type": "execute_result"
    }
   ],
   "source": [
    "\n",
    "\n",
    "coefs = pd.DataFrame(\n",
    "    np.ravel(w),\n",
    "    columns=[\"Coefficients\"],\n",
    "    index=features[:len(features)-1],\n",
    ")\n",
    "\n",
    "coefs"
   ]
  },
  {
   "cell_type": "code",
   "execution_count": 274,
   "id": "2799cd5a-93bb-450f-a750-733483a2c3a0",
   "metadata": {},
   "outputs": [
    {
     "data": {
      "image/png": "[encoded data removed]",
      "text/plain": [
       "<Figure size 648x504 with 1 Axes>"
      ]
     },
     "metadata": {
      "needs_background": "light"
     },
     "output_type": "display_data"
    }
   ],
   "source": [
    "coefs.plot(kind=\"barh\", figsize=(9, 7))\n",
    "plt.title(\"Ridge model, small regularization\")\n",
    "plt.axvline(x=0, color=\".5\")\n",
    "plt.subplots_adjust(left=0.3)"
   ]
  },
  {
   "cell_type": "code",
   "execution_count": 263,
   "id": "fc48b553-500a-4594-90ba-cac2ea5682f1",
   "metadata": {},
   "outputs": [
    {
     "data": {
      "image/png": "[encoded data removed]",
      "text/plain": [
       "<Figure size 432x288 with 1 Axes>"
      ]
     },
     "metadata": {
      "needs_background": "light"
     },
     "output_type": "display_data"
    }
   ],
   "source": [
    "import sklearn.metrics as metrics\n",
    "# calculate the fpr and tpr for all thresholds of the classification\n",
    "probs = pipe.predict_proba(X_test)\n",
    "preds = probs[:,1]\n",
    "fpr, tpr, threshold = metrics.roc_curve(y_test, preds)\n",
    "roc_auc = metrics.auc(fpr, tpr)\n",
    "\n",
    "# method I: plt\n",
    "import matplotlib.pyplot as plt\n",
    "plt.title('Receiver Operating Characteristic')\n",
    "plt.plot(fpr, tpr, 'b', label = 'AUC = %0.2f' % roc_auc)\n",
    "plt.legend(loc = 'lower right')\n",
    "plt.plot([0, 1], [0, 1],'r--')\n",
    "plt.xlim([0, 1])\n",
    "plt.ylim([0, 1])\n",
    "plt.ylabel('True Positive Rate')\n",
    "plt.xlabel('False Positive Rate')\n",
    "plt.show()"
   ]
  },
  {
   "cell_type": "code",
   "execution_count": 264,
   "id": "b4dca89a-d24c-498e-8737-ccc76fc094eb",
   "metadata": {},
   "outputs": [],
   "source": [
    "from sklearn.metrics import classification_report"
   ]
  },
  {
   "cell_type": "code",
   "execution_count": 265,
   "id": "26bd6956-6164-43e2-bcaf-1398a4b3e940",
   "metadata": {},
   "outputs": [
    {
     "name": "stdout",
     "output_type": "stream",
     "text": [
      "              precision    recall  f1-score   support\n",
      "\n",
      "           0       0.67      0.53      0.59     77824\n",
      "           1       0.59      0.72      0.65     73513\n",
      "\n",
      "    accuracy                           0.62    151337\n",
      "   macro avg       0.63      0.63      0.62    151337\n",
      "weighted avg       0.63      0.62      0.62    151337\n",
      "\n"
     ]
    }
   ],
   "source": [
    "report = classification_report(y_test, predictions)\n",
    "\n",
    "print(report)"
   ]
  },
  {
   "cell_type": "code",
   "execution_count": 266,
   "id": "0b401b30-d14f-4bea-a994-d5d72ab663d8",
   "metadata": {},
   "outputs": [],
   "source": [
    "from sklearn.calibration import calibration_curve, CalibrationDisplay"
   ]
  },
  {
   "cell_type": "code",
   "execution_count": 276,
   "id": "f20ca19e-326d-436d-82d8-43467460b493",
   "metadata": {},
   "outputs": [
    {
     "data": {
      "text/plain": [
       "<sklearn.calibration.CalibrationDisplay at 0x7fe43b386550>"
      ]
     },
     "execution_count": 276,
     "metadata": {},
     "output_type": "execute_result"
    },
    {
     "data": {
      "image/png": "[encoded data removed]",
      "text/plain": [
       "<Figure size 432x288 with 1 Axes>"
      ]
     },
     "metadata": {
      "needs_background": "light"
     },
     "output_type": "display_data"
    }
   ],
   "source": [
    "y_prob = pipe.predict_proba(X_test)[:, 1]\n",
    "prob_true, prob_pred = calibration_curve(y_test, y_prob, n_bins=10)\n",
    "disp = CalibrationDisplay(prob_true, prob_pred, y_prob)\n",
    "disp.plot()"
   ]
  },
  {
   "cell_type": "code",
   "execution_count": 282,
   "id": "1705c186-485a-436a-98f7-fe26f09ce82e",
   "metadata": {},
   "outputs": [
    {
     "data": {
      "text/plain": [
       "(0.0, 1.0)"
      ]
     },
     "execution_count": 282,
     "metadata": {},
     "output_type": "execute_result"
    },
    {
     "data": {
      "image/png": "[encoded data removed]",
      "text/plain": [
       "<Figure size 432x288 with 1 Axes>"
      ]
     },
     "metadata": {
      "needs_background": "light"
     },
     "output_type": "display_data"
    }
   ],
   "source": [
    "plt.plot(prob_pred, prob_true, marker='o')\n",
    "plt.plot(0, 1)\n",
    "plt.xlim([0, 1])\n",
    "plt.ylim([0, 1])"
   ]
  },
  {
   "cell_type": "code",
   "execution_count": null,
   "id": "4fa1454b-0a40-47da-8852-e486e60e4b9f",
   "metadata": {},
   "outputs": [],
   "source": []
  }
 ],
 "metadata": {
  "kernelspec": {
   "display_name": "Python 3 (ipykernel)",
   "language": "python",
   "name": "python3"
  },
  "language_info": {
   "codemirror_mode": {
    "name": "ipython",
    "version": 3
   },
   "file_extension": ".py",
   "mimetype": "text/x-python",
   "name": "python",
   "nbconvert_exporter": "python",
   "pygments_lexer": "ipython3",
   "version": "3.7.11"
  }
 },
 "nbformat": 4,
 "nbformat_minor": 5
}
